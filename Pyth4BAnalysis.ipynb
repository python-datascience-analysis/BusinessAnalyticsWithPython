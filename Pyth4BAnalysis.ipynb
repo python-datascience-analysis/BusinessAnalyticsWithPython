{
 "cells": [
  {
   "cell_type": "code",
   "execution_count": 1,
   "id": "2a48604a",
   "metadata": {},
   "outputs": [
    {
     "name": "stdout",
     "output_type": "stream",
     "text": [
      "Hello, World!\n"
     ]
    }
   ],
   "source": [
    "print(\"Hello, World!\")"
   ]
  },
  {
   "cell_type": "code",
   "execution_count": null,
   "id": "a509decf",
   "metadata": {},
   "outputs": [
    {
     "name": "stdout",
     "output_type": "stream",
     "text": [
      "10\n",
      "ball\n"
     ]
    }
   ],
   "source": [
    "#Assignment\n",
    "a = 10\n",
    "b = 'ball'\n",
    "#Print function\n",
    "print(a)\n",
    "print(b)"
   ]
  },
  {
   "cell_type": "code",
   "execution_count": 4,
   "id": "0368de97",
   "metadata": {},
   "outputs": [
    {
     "name": "stdout",
     "output_type": "stream",
     "text": [
      "<class 'int'>\n",
      "<class 'str'>\n"
     ]
    }
   ],
   "source": [
    "#Type function\n",
    "#Python is dynamically typed\n",
    "print(type(a))\n",
    "print(type(b))\n"
   ]
  },
  {
   "cell_type": "code",
   "execution_count": 8,
   "id": "1f5435a9",
   "metadata": {},
   "outputs": [
    {
     "name": "stdout",
     "output_type": "stream",
     "text": [
      "<class 'float'>\n",
      "0.875\n",
      "String\n",
      "<class 'str'>\n",
      "<class 'int'>\n",
      "5\n"
     ]
    }
   ],
   "source": [
    "#Reassign variable - this chages it's type\n",
    "a = 7/8\n",
    "print(type(a))\n",
    "print(a)\n",
    "a = \"String\"\n",
    "print(a)\n",
    "print(type(a))\n",
    "b = 2\n",
    "print(type(b))\n",
    "\n",
    "#Reassign b, taking the old value of b and adding 3\n",
    "b= b + 3\n",
    "print(b)"
   ]
  },
  {
   "cell_type": "code",
   "execution_count": 9,
   "id": "27a96376",
   "metadata": {},
   "outputs": [
    {
     "ename": "NameError",
     "evalue": "name 'x' is not defined",
     "output_type": "error",
     "traceback": [
      "\u001b[0;31m---------------------------------------------------------------------------\u001b[0m",
      "\u001b[0;31mNameError\u001b[0m                                 Traceback (most recent call last)",
      "Cell \u001b[0;32mIn [9], line 3\u001b[0m\n\u001b[1;32m      1\u001b[0m \u001b[38;5;66;03m#Symbolic calculations are not permitted\u001b[39;00m\n\u001b[1;32m      2\u001b[0m \u001b[38;5;66;03m#You need to specify a function\u001b[39;00m\n\u001b[0;32m----> 3\u001b[0m b \u001b[38;5;241m=\u001b[39m \u001b[43mx\u001b[49m \u001b[38;5;241m+\u001b[39m x\u001b[38;5;241m*\u001b[39m\u001b[38;5;241m*\u001b[39m\u001b[38;5;241m2\u001b[39m\n",
      "\u001b[0;31mNameError\u001b[0m: name 'x' is not defined"
     ]
    }
   ],
   "source": [
    "#Symbolic calculations are not permitted\n",
    "#You need to specify a function\n",
    "b = x + x**2"
   ]
  },
  {
   "cell_type": "code",
   "execution_count": null,
   "id": "ceff52b4",
   "metadata": {},
   "outputs": [],
   "source": [
    "#Gives a NameError"
   ]
  },
  {
   "cell_type": "code",
   "execution_count": 12,
   "id": "97d981a9",
   "metadata": {},
   "outputs": [
    {
     "name": "stdout",
     "output_type": "stream",
     "text": [
      "True\n",
      "False\n",
      "False\n",
      "True!!! \n"
     ]
    }
   ],
   "source": [
    "a = 7\n",
    "b = -2\n",
    "#Assert relationship\n",
    "print(a > b)\n",
    "print(a <= b)\n",
    "print(a == b)\n",
    "print(a != b, end = \"!!! \\n\")"
   ]
  },
  {
   "cell_type": "code",
   "execution_count": 13,
   "id": "e80ea71c",
   "metadata": {},
   "outputs": [],
   "source": [
    "#Assign Booleans\n",
    "d = False\n",
    "c = (a > b)"
   ]
  },
  {
   "cell_type": "code",
   "execution_count": 14,
   "id": "f0758237",
   "metadata": {},
   "outputs": [],
   "source": [
    "#And, or, not\n",
    "e = not d\n",
    "f = not d and c\n",
    "g = d or c"
   ]
  },
  {
   "cell_type": "code",
   "execution_count": 15,
   "id": "8500da50",
   "metadata": {},
   "outputs": [
    {
     "name": "stdout",
     "output_type": "stream",
     "text": [
      "False\n",
      "True\n",
      "True\n",
      "False\n"
     ]
    }
   ],
   "source": [
    "#Bool function: is it falsy or truthy?\n",
    "print(bool(0))\n",
    "print(bool(101))\n",
    "print(bool(\"word\"))\n",
    "print(bool(\"\"))"
   ]
  },
  {
   "cell_type": "code",
   "execution_count": 3,
   "id": "2def9e72",
   "metadata": {},
   "outputs": [],
   "source": [
    "#Empty list\n",
    "empty = [] # alternative list ()\n",
    "#add item to list\n",
    "a = 7\n",
    "b = 8\n",
    "c = -2\n",
    "d = \"fun\"\n",
    "empty.append(a)\n",
    "empty.append(b)\n",
    "empty.append(c)\n",
    "empty.append(d)"
   ]
  },
  {
   "cell_type": "code",
   "execution_count": 17,
   "id": "31ab2644",
   "metadata": {},
   "outputs": [],
   "source": [
    "#****Dot operator comes after variable name and is fiollowed by the method "
   ]
  },
  {
   "cell_type": "code",
   "execution_count": 18,
   "id": "b3e18df7",
   "metadata": {},
   "outputs": [
    {
     "data": {
      "text/plain": [
       "4"
      ]
     },
     "execution_count": 18,
     "metadata": {},
     "output_type": "execute_result"
    }
   ],
   "source": [
    "len(empty)"
   ]
  },
  {
   "cell_type": "code",
   "execution_count": 22,
   "id": "b15b0667",
   "metadata": {},
   "outputs": [
    {
     "name": "stdout",
     "output_type": "stream",
     "text": [
      "7\n",
      "fun\n",
      "fun\n"
     ]
    }
   ],
   "source": [
    "#Indexing\n",
    "print(empty[0])\n",
    "#To get the last item\n",
    "print(empty[-1])\n",
    "#Alternative \n",
    "print(empty[len(empty)-1])"
   ]
  },
  {
   "cell_type": "code",
   "execution_count": 23,
   "id": "77987560",
   "metadata": {},
   "outputs": [
    {
     "data": {
      "text/plain": [
       "'fun'"
      ]
     },
     "execution_count": 23,
     "metadata": {},
     "output_type": "execute_result"
    }
   ],
   "source": [
    "empty.pop(-1)"
   ]
  },
  {
   "cell_type": "code",
   "execution_count": 25,
   "id": "8e585b8b",
   "metadata": {},
   "outputs": [
    {
     "name": "stdout",
     "output_type": "stream",
     "text": [
      "[7]\n",
      "[7, 8]\n",
      "[7, 8]\n",
      "[7]\n",
      "[7, -2]\n"
     ]
    }
   ],
   "source": [
    "#Slicing\n",
    "print(empty[0 : 1])\n",
    "print(empty[0 : 2])\n",
    "print(empty[ : 2])\n",
    "print(empty[ : 1])\n",
    "#Steps (thrid entry; default is 1)\n",
    "print(empty[0 :: 2])"
   ]
  },
  {
   "cell_type": "code",
   "execution_count": 26,
   "id": "f5c56e05",
   "metadata": {},
   "outputs": [],
   "source": [
    "empty.append(\"a\")"
   ]
  },
  {
   "cell_type": "code",
   "execution_count": 28,
   "id": "a480481e",
   "metadata": {},
   "outputs": [
    {
     "name": "stdout",
     "output_type": "stream",
     "text": [
      "[7, -2]\n",
      "[7, 'a']\n"
     ]
    }
   ],
   "source": [
    "print(empty[0 :: 2])\n",
    "print(empty[0 :: 3])"
   ]
  },
  {
   "cell_type": "code",
   "execution_count": 29,
   "id": "191a920e",
   "metadata": {},
   "outputs": [],
   "source": [
    "empty.append(222)"
   ]
  },
  {
   "cell_type": "code",
   "execution_count": 33,
   "id": "cb717aab",
   "metadata": {},
   "outputs": [
    {
     "name": "stdout",
     "output_type": "stream",
     "text": [
      "[7, 8, -2, 'a']\n"
     ]
    }
   ],
   "source": [
    "print(empty[0 : 4 : 1])"
   ]
  },
  {
   "cell_type": "code",
   "execution_count": 34,
   "id": "865d1a7a",
   "metadata": {},
   "outputs": [
    {
     "name": "stdout",
     "output_type": "stream",
     "text": [
      "[7, 8, -2]\n"
     ]
    }
   ],
   "source": [
    "print(empty[0 : 3 : 1])"
   ]
  },
  {
   "cell_type": "code",
   "execution_count": 35,
   "id": "bcb8f73d",
   "metadata": {},
   "outputs": [
    {
     "name": "stdout",
     "output_type": "stream",
     "text": [
      "[7, -2]\n"
     ]
    }
   ],
   "source": [
    "print(empty[0 : 4 : 2])"
   ]
  },
  {
   "cell_type": "code",
   "execution_count": 36,
   "id": "296a0ed1",
   "metadata": {},
   "outputs": [
    {
     "name": "stdout",
     "output_type": "stream",
     "text": [
      "[7]\n"
     ]
    }
   ],
   "source": [
    "print(empty[0 : 4 : 4])"
   ]
  },
  {
   "cell_type": "code",
   "execution_count": 1,
   "id": "82bbcbe6",
   "metadata": {},
   "outputs": [],
   "source": [
    "#[first number is start : second number is end, exclusive : thrid number is step size]"
   ]
  },
  {
   "cell_type": "code",
   "execution_count": 4,
   "id": "1aef0c8c",
   "metadata": {},
   "outputs": [],
   "source": [
    "#Shallow copy\n",
    "copy = empty[:]"
   ]
  },
  {
   "cell_type": "code",
   "execution_count": 5,
   "id": "26bc5724",
   "metadata": {},
   "outputs": [],
   "source": [
    "copy.reverse()"
   ]
  },
  {
   "cell_type": "code",
   "execution_count": 19,
   "id": "4c3939ec",
   "metadata": {},
   "outputs": [
    {
     "name": "stdout",
     "output_type": "stream",
     "text": [
      "True\n",
      "False\n"
     ]
    }
   ],
   "source": [
    "#The in and not in operator \n",
    "print(d in empty)\n",
    "print(d not in empty)\n",
    "\n",
    "#This lets you see if an item is in or not in a list\n"
   ]
  },
  {
   "cell_type": "code",
   "execution_count": 7,
   "id": "7b9365ba",
   "metadata": {},
   "outputs": [],
   "source": [
    "first_tuple = ()"
   ]
  },
  {
   "cell_type": "code",
   "execution_count": 8,
   "id": "c6ab7163",
   "metadata": {},
   "outputs": [],
   "source": [
    "#Add one item to a tuple using +\n",
    "item_one = \"First name\"\n",
    "item_two = \"Last name\"\n",
    "item_three = \"Position\"\n",
    "#Note the comma!\n",
    "updated_tuple = first_tuple + (item_one, ) +(item_two, ) + (item_three, )"
   ]
  },
  {
   "cell_type": "code",
   "execution_count": 9,
   "id": "80811bbc",
   "metadata": {},
   "outputs": [],
   "source": [
    "updated_list = list(updated_tuple)"
   ]
  },
  {
   "cell_type": "code",
   "execution_count": 10,
   "id": "d53654ff",
   "metadata": {},
   "outputs": [
    {
     "name": "stdout",
     "output_type": "stream",
     "text": [
      "First name\n",
      "('First name', 'Last name')\n"
     ]
    }
   ],
   "source": [
    "print(updated_tuple[0])\n",
    "print(updated_tuple[:2])"
   ]
  },
  {
   "cell_type": "code",
   "execution_count": 13,
   "id": "b5ce720d",
   "metadata": {},
   "outputs": [],
   "source": [
    "#Unpacking a tuple into items and lists\n",
    "first_name, *other = updated_tuple"
   ]
  },
  {
   "cell_type": "code",
   "execution_count": 12,
   "id": "6c2f8cec",
   "metadata": {},
   "outputs": [
    {
     "name": "stdout",
     "output_type": "stream",
     "text": [
      "First name\n"
     ]
    }
   ],
   "source": [
    "print(first_name)"
   ]
  },
  {
   "cell_type": "code",
   "execution_count": null,
   "id": "33d8357e",
   "metadata": {},
   "outputs": [
    {
     "name": "stdout",
     "output_type": "stream",
     "text": [
      "{'green', 'red', 'blue'}\n"
     ]
    }
   ],
   "source": [
    "first_set = set()\n",
    "#Adding colurs to the set of colours\n",
    "first_set.add(\"red\")\n",
    "first_set.add(\"blue\")\n",
    "first_set.add(\"green\")\n",
    "first_set.add(\"red\")\n",
    "print(first_set)"
   ]
  },
  {
   "cell_type": "code",
   "execution_count": 15,
   "id": "068bc038",
   "metadata": {},
   "outputs": [],
   "source": [
    "#There are no duplicates in a set and order doesn't matter"
   ]
  },
  {
   "cell_type": "code",
   "execution_count": 18,
   "id": "bcaa5bf5",
   "metadata": {},
   "outputs": [
    {
     "name": "stdout",
     "output_type": "stream",
     "text": [
      "True\n",
      "False\n"
     ]
    }
   ],
   "source": [
    "print(\"red\" in first_set)\n",
    "print(\"blue\" not in first_set)"
   ]
  },
  {
   "cell_type": "code",
   "execution_count": 21,
   "id": "f09e44e0",
   "metadata": {},
   "outputs": [
    {
     "name": "stdout",
     "output_type": "stream",
     "text": [
      "Tom\n"
     ]
    }
   ],
   "source": [
    "my_dict = {\"Name\": \"Tom\"}\n",
    "print(my_dict[\"Name\"])"
   ]
  },
  {
   "cell_type": "code",
   "execution_count": 22,
   "id": "fcd7d276",
   "metadata": {},
   "outputs": [
    {
     "name": "stdout",
     "output_type": "stream",
     "text": [
      "{'Name': 'Tom', 'Age': 43}\n"
     ]
    }
   ],
   "source": [
    "my_dict.update({\"Age\" : 43})\n",
    "print(my_dict)"
   ]
  },
  {
   "cell_type": "code",
   "execution_count": 24,
   "id": "b8cde9fb",
   "metadata": {},
   "outputs": [
    {
     "name": "stdout",
     "output_type": "stream",
     "text": [
      "['Name', 'Age']\n"
     ]
    }
   ],
   "source": [
    "#list function on a dict returns the keys\n",
    "list_keys = list(my_dict)\n",
    "print(list_keys)"
   ]
  },
  {
   "cell_type": "code",
   "execution_count": 25,
   "id": "f2c0dcb1",
   "metadata": {},
   "outputs": [
    {
     "name": "stdout",
     "output_type": "stream",
     "text": [
      "['Age', 'Name']\n"
     ]
    }
   ],
   "source": [
    "list_keys2 = sorted(my_dict)\n",
    "print(list_keys2)"
   ]
  },
  {
   "cell_type": "code",
   "execution_count": 26,
   "id": "dc7bf27d",
   "metadata": {},
   "outputs": [
    {
     "name": "stdout",
     "output_type": "stream",
     "text": [
      "{'Name': 'Amy', 'Position': 'Data Nerd'}\n"
     ]
    }
   ],
   "source": [
    "new_dict = dict([(\"Name\", \"Amy\"), (\"Position\", \"Data Nerd\")])\n",
    "print(new_dict)"
   ]
  },
  {
   "cell_type": "code",
   "execution_count": 27,
   "id": "12f95ff3",
   "metadata": {},
   "outputs": [
    {
     "name": "stdout",
     "output_type": "stream",
     "text": [
      "{'Name': 'Amy', 'Position': 'Data nerd'}\n"
     ]
    }
   ],
   "source": [
    "new_dict = dict(Name =\"Amy\", Position = \"Data nerd\")\n",
    "print(new_dict)"
   ]
  },
  {
   "cell_type": "code",
   "execution_count": null,
   "id": "eac1214a",
   "metadata": {},
   "outputs": [],
   "source": [
    "#the dict function can be used to create dictionaries. You can use tuples or keyword arguments."
   ]
  },
  {
   "cell_type": "code",
   "execution_count": 30,
   "id": "c342195c",
   "metadata": {},
   "outputs": [
    {
     "name": "stdout",
     "output_type": "stream",
     "text": [
      "0\n",
      "1\n",
      "2\n",
      "3\n",
      "4\n",
      "5\n",
      "6\n",
      "7\n",
      "8\n",
      "9\n",
      "10\n",
      "11\n"
     ]
    }
   ],
   "source": [
    "for i in range(12):\n",
    "    print(i)"
   ]
  },
  {
   "cell_type": "code",
   "execution_count": 31,
   "id": "a258e7c7",
   "metadata": {},
   "outputs": [],
   "source": [
    "#range is exclusive"
   ]
  },
  {
   "cell_type": "code",
   "execution_count": 32,
   "id": "ae79c5ad",
   "metadata": {},
   "outputs": [
    {
     "name": "stdout",
     "output_type": "stream",
     "text": [
      "I like apples\n",
      "I like pizza\n",
      "I like bread\n"
     ]
    }
   ],
   "source": [
    "foods = [\"apples\", \"pizza\", \"bread\"]\n",
    "for food in foods:\n",
    "    print(f\"I like {food}\")"
   ]
  },
  {
   "cell_type": "code",
   "execution_count": 33,
   "id": "1a190186",
   "metadata": {},
   "outputs": [
    {
     "name": "stdout",
     "output_type": "stream",
     "text": [
      "[0, 1, 1, 2, 3, 5, 8, 13, 21, 34, 55, 89, 144, 233, 377, 610, 987, 1597, 2584, 4181, 6765, 10946]\n"
     ]
    }
   ],
   "source": [
    "fib = [0, 1]\n",
    "while fib[-1] < 10000:\n",
    "    fib.append(fib[-2] + fib[-1])\n",
    "print(fib)"
   ]
  },
  {
   "cell_type": "code",
   "execution_count": null,
   "id": "bf633193",
   "metadata": {},
   "outputs": [],
   "source": [
    "#Elegant fib algorithm with a limit!"
   ]
  },
  {
   "cell_type": "code",
   "execution_count": null,
   "id": "cd26d747",
   "metadata": {},
   "outputs": [
    {
     "name": "stdout",
     "output_type": "stream",
     "text": [
      "That will be £100.90, thank you Michael!\n"
     ]
    }
   ],
   "source": [
    "customer_name = input(\"What's your name? \")\n",
    "greeting = input(f\"Hi {customer_name}! We have bread, pizza and apples to buy. Press Enter to continue\")\n",
    "bread_order = int(input(\"How much Bread would you like? \"))\n",
    "pizza_order = int(input(\"How many Pizza's would you like? \"))\n",
    "apple_order = int(input(\"How many Apples would you like? \"))\n",
    "cost = (bread_order * 0.5) + (pizza_order * 15) + (apple_order * 1.2)\n",
    "Total = \"%.2f\" % cost\n",
    "print(f\"That will be £{Total}, thank you {customer_name}!\")"
   ]
  },
  {
   "cell_type": "code",
   "execution_count": 3,
   "id": "a6b61da9",
   "metadata": {},
   "outputs": [],
   "source": [
    "#Walthrough of project by author, follows"
   ]
  },
  {
   "cell_type": "code",
   "execution_count": 4,
   "id": "e2e6fb65",
   "metadata": {},
   "outputs": [],
   "source": [
    "#Create a list of food items\n",
    "food_list = [\"pizza\", \"pasta\", \"burger\"]\n",
    "#Create a list of prices \n",
    "price_list = [10, 7.5, 5]"
   ]
  },
  {
   "cell_type": "code",
   "execution_count": null,
   "id": "72cd5052",
   "metadata": {},
   "outputs": [
    {
     "name": "stdout",
     "output_type": "stream",
     "text": [
      "Welcome to Cheap Cuts\n"
     ]
    }
   ],
   "source": [
    "#The input function\n",
    "print(\"Welcome to Cheap Cuts\")\n",
    "name = input(\"Enter your name: \")\n",
    "\n",
    "#Make an order\n",
    "order_list = []\n",
    "\n",
    "for food in food_list:\n",
    "    order = input(f'({name} do you want {food}?: [y/n])')\n",
    "    if order == 'y':\n",
    "        order_list.append(1)\n",
    "    elif order == 'n':\n",
    "        order_list.append(0)   \n",
    "    else :\n",
    "        print(f'sorry {name} I do not understand')"
   ]
  },
  {
   "cell_type": "code",
   "execution_count": 8,
   "id": "62f365ff",
   "metadata": {},
   "outputs": [],
   "source": [
    "#Make an order\n",
    "order_list = []\n",
    "\n",
    "for food in food_list:\n",
    "    order_incomplete = True\n",
    "    while order_incomplete:\n",
    "        order = input(f'{name} do you want {food}?: [y/n] ')\n",
    "        if order == 'y':\n",
    "            order_list.append(1)\n",
    "            order_incomplete = False\n",
    "        elif order == 'n':\n",
    "            order_list.append(0)  \n",
    "            order_incomplete = False\n",
    "        else :\n",
    "            print(f'sorry {name} I do not understand')\n"
   ]
  },
  {
   "cell_type": "code",
   "execution_count": 10,
   "id": "c56edf90",
   "metadata": {},
   "outputs": [],
   "source": [
    "#Make an order\n",
    "order_list = []\n",
    "\n",
    "for food in food_list:\n",
    "    order_incomplete = True\n",
    "    while order_incomplete:\n",
    "        order = input(f'{name} do you want {food}?: [y/n] ')\n",
    "        if order == 'y':\n",
    "            num = input(f'How many {food}s do you want? ')\n",
    "            order_list.append(int(num))\n",
    "            order_incomplete = False\n",
    "        elif order == 'n':\n",
    "            order_list.append(0)  \n",
    "            order_incomplete = False\n",
    "        else :\n",
    "            print(f'sorry {name} I do not understand')"
   ]
  },
  {
   "cell_type": "code",
   "execution_count": 11,
   "id": "c5328f5a",
   "metadata": {},
   "outputs": [],
   "source": [
    "list_num = [2, 4, 5]\n",
    "list_even_num = [num for num in list_num if num % 2 == 0]"
   ]
  },
  {
   "cell_type": "code",
   "execution_count": 14,
   "id": "92f092e4",
   "metadata": {},
   "outputs": [],
   "source": [
    "list_num = [2, 4, 5]\n",
    "list_even_num = []\n",
    "for num in list_num:\n",
    "    if num % 2 == 0:\n",
    "        list_even_num.append(num)\n"
   ]
  },
  {
   "cell_type": "code",
   "execution_count": 15,
   "id": "41ba754e",
   "metadata": {},
   "outputs": [
    {
     "name": "stdout",
     "output_type": "stream",
     "text": [
      "\n",
      "Thanks MIchael for ordering 5  pizzas\n",
      "4 pastas and 0 burgers\n",
      "Please pay GBP 80.0\n"
     ]
    }
   ],
   "source": [
    "print(f'\\nThanks {name} for ordering {order_list[0]}  {food_list[0]}s')\n",
    "print(f'{order_list[1]} {food_list[1]}s and {order_list[2]} {food_list[2]}s')\n",
    "\n",
    "total_price = sum( [order * price for order, price in zip(order_list, price_list)])\n",
    "\n",
    "print(f'Please pay GBP {total_price}')"
   ]
  },
  {
   "cell_type": "code",
   "execution_count": 16,
   "id": "bad04db2",
   "metadata": {},
   "outputs": [],
   "source": [
    "#Author has an option to put 'n' for no, I left this as an ability to put 0 maybe. Slightly more dynamic. different price clculation using for and zip."
   ]
  },
  {
   "cell_type": "code",
   "execution_count": 17,
   "id": "d6f8780f",
   "metadata": {},
   "outputs": [
    {
     "name": "stdout",
     "output_type": "stream",
     "text": [
      "5 to the power of 3 equals 125.\n"
     ]
    }
   ],
   "source": [
    "x = 5\n",
    "a = 3\n",
    "result = x**a\n",
    "print(f'{x} to the power of {a} equals {result}.')"
   ]
  },
  {
   "cell_type": "code",
   "execution_count": 18,
   "id": "26a3bf51",
   "metadata": {},
   "outputs": [],
   "source": [
    "def power(x, a):\n",
    "    out = x**a\n",
    "    print(f'{x} to the power {a} is {out}.')"
   ]
  },
  {
   "cell_type": "code",
   "execution_count": 19,
   "id": "77469c39",
   "metadata": {},
   "outputs": [
    {
     "name": "stdout",
     "output_type": "stream",
     "text": [
      "5 to the power 3 is 125.\n",
      "5 to the power 3 is 125.\n"
     ]
    }
   ],
   "source": [
    "power(5,3)\n",
    "power(x = 5, a = 3)"
   ]
  },
  {
   "cell_type": "code",
   "execution_count": 20,
   "id": "69f06efc",
   "metadata": {},
   "outputs": [],
   "source": [
    "#Positional arguments follow the position in the function. Keyword arguments allow the order to be changed and follow the function."
   ]
  },
  {
   "cell_type": "code",
   "execution_count": 21,
   "id": "10d2e8e4",
   "metadata": {},
   "outputs": [],
   "source": [
    "def power(x, a):\n",
    "    out = x**a\n",
    "    print(f'{x} to the power {a} is {out}.')\n",
    "    return out"
   ]
  },
  {
   "cell_type": "code",
   "execution_count": 22,
   "id": "e3cb345f",
   "metadata": {},
   "outputs": [
    {
     "name": "stdout",
     "output_type": "stream",
     "text": [
      "5 to the power 3 is 125.\n"
     ]
    }
   ],
   "source": [
    "out = power(5, 3)"
   ]
  },
  {
   "cell_type": "code",
   "execution_count": 23,
   "id": "1836abbf",
   "metadata": {},
   "outputs": [],
   "source": [
    "#return means a variable can take the return value of the function."
   ]
  },
  {
   "cell_type": "code",
   "execution_count": null,
   "id": "ddd08510",
   "metadata": {},
   "outputs": [],
   "source": [
    "def number_fun():\n",
    "    set = []\n",
    "    sum = 0\n",
    "    product = 1\n",
    "    johnson = True\n",
    "    while johnson:\n",
    "        numbers = int(input(\"Enter a number, enter 0 to stop\"))\n",
    "        if numbers == 0:\n",
    "            johnson = False\n",
    "        else:\n",
    "            set.append(numbers)\n",
    "    for i in set:\n",
    "        sum +=i\n",
    "    for i in set:\n",
    "        product *=i\n",
    "    print(sum)\n",
    "    print(product)"
   ]
  },
  {
   "cell_type": "code",
   "execution_count": 36,
   "id": "3e28a7a6",
   "metadata": {},
   "outputs": [
    {
     "name": "stdout",
     "output_type": "stream",
     "text": [
      "11\n",
      "30\n"
     ]
    }
   ],
   "source": [
    "number_fun()"
   ]
  },
  {
   "cell_type": "code",
   "execution_count": 40,
   "id": "f73dbed5",
   "metadata": {},
   "outputs": [],
   "source": [
    "def input_num():\n",
    "    invalid_input = True\n",
    "\n",
    "    while invalid_input:\n",
    "        num = input(\"Please enter an integer. Enter 0 to stop: \")\n",
    "        try:\n",
    "            num = int(num)\n",
    "            invalid_input = False\n",
    "        except:\n",
    "            print(\"Invalid input\")\n",
    "    return num\n",
    "\n",
    "def sum_product():\n",
    "    #Sum and product of numbers entered.\n",
    "    sum_num = 0\n",
    "    prod_num = 1\n",
    "\n",
    "    #Call first number\n",
    "    num = input_num()\n",
    "\n",
    "    while num:\n",
    "        sum_num += num\n",
    "        prod_num *= num\n",
    "        num = input_num()\n",
    "    print(f\"The sum of the integers is {sum_num}\")\n",
    "    print(f\"The product of the integers is {prod_num}\")\n",
    "\n"
   ]
  },
  {
   "cell_type": "code",
   "execution_count": 41,
   "id": "b1901b26",
   "metadata": {},
   "outputs": [
    {
     "name": "stdout",
     "output_type": "stream",
     "text": [
      "The sum of the integers is 9\n",
      "The product of the integers is 20\n"
     ]
    }
   ],
   "source": [
    "sum_product()"
   ]
  },
  {
   "cell_type": "code",
   "execution_count": 42,
   "id": "3f012538",
   "metadata": {},
   "outputs": [],
   "source": [
    "#Author used input validation, which is sensible for user input. "
   ]
  },
  {
   "cell_type": "code",
   "execution_count": 43,
   "id": "e1afe5af",
   "metadata": {},
   "outputs": [],
   "source": [
    "class Staff():\n",
    "    pass"
   ]
  },
  {
   "cell_type": "code",
   "execution_count": 44,
   "id": "de42eecb",
   "metadata": {},
   "outputs": [],
   "source": [
    "new_staff = Staff()"
   ]
  },
  {
   "cell_type": "code",
   "execution_count": 46,
   "id": "cfee74ca",
   "metadata": {},
   "outputs": [
    {
     "data": {
      "text/plain": [
       "__main__.Staff"
      ]
     },
     "execution_count": 46,
     "metadata": {},
     "output_type": "execute_result"
    }
   ],
   "source": [
    "type(new_staff)"
   ]
  },
  {
   "cell_type": "code",
   "execution_count": 47,
   "id": "1b99fd0f",
   "metadata": {},
   "outputs": [
    {
     "name": "stdout",
     "output_type": "stream",
     "text": [
      "<__main__.Staff object at 0x7f93888522d0>\n"
     ]
    }
   ],
   "source": [
    "print(new_staff)"
   ]
  },
  {
   "cell_type": "code",
   "execution_count": 48,
   "id": "7675752f",
   "metadata": {},
   "outputs": [],
   "source": [
    "class Staff():\n",
    "    def __init__ (self, name, hours):\n",
    "        self.name = name\n",
    "        self.hours = hours"
   ]
  },
  {
   "cell_type": "code",
   "execution_count": 61,
   "id": "b9a16d75",
   "metadata": {},
   "outputs": [],
   "source": [
    "new_staff = Staff(\"Amy\", 40)"
   ]
  },
  {
   "cell_type": "code",
   "execution_count": 50,
   "id": "a1d3dbae",
   "metadata": {},
   "outputs": [
    {
     "name": "stdout",
     "output_type": "stream",
     "text": [
      "Amy\n"
     ]
    }
   ],
   "source": [
    "print(new_staff.name)"
   ]
  },
  {
   "cell_type": "code",
   "execution_count": 59,
   "id": "68443b68",
   "metadata": {},
   "outputs": [],
   "source": [
    "class Staff():\n",
    "    def __init__ (self, name, hours):\n",
    "        self.name = name\n",
    "        self.hours = hours\n",
    "    def __repr__ (self):\n",
    "        return f\"{self.name} works for {self.hours} hours\" # this tells the class what to retur"
   ]
  },
  {
   "cell_type": "code",
   "execution_count": 53,
   "id": "d87d1951",
   "metadata": {},
   "outputs": [
    {
     "name": "stdout",
     "output_type": "stream",
     "text": [
      "<__main__.Staff object at 0x7f93a0513450>\n"
     ]
    }
   ],
   "source": [
    "print(new_staff)"
   ]
  },
  {
   "cell_type": "code",
   "execution_count": 54,
   "id": "d1b994e8",
   "metadata": {},
   "outputs": [
    {
     "name": "stdout",
     "output_type": "stream",
     "text": [
      "Amy\n"
     ]
    }
   ],
   "source": [
    "print(new_staff.name)"
   ]
  },
  {
   "cell_type": "code",
   "execution_count": 55,
   "id": "713e600c",
   "metadata": {},
   "outputs": [
    {
     "ename": "TypeError",
     "evalue": "Staff.__init__() missing 2 required positional arguments: 'name' and 'hours'",
     "output_type": "error",
     "traceback": [
      "\u001b[0;31m---------------------------------------------------------------------------\u001b[0m",
      "\u001b[0;31mTypeError\u001b[0m                                 Traceback (most recent call last)",
      "Cell \u001b[0;32mIn [55], line 1\u001b[0m\n\u001b[0;32m----> 1\u001b[0m \u001b[38;5;28mprint\u001b[39m(\u001b[43mStaff\u001b[49m\u001b[43m(\u001b[49m\u001b[43m)\u001b[49m)\n",
      "\u001b[0;31mTypeError\u001b[0m: Staff.__init__() missing 2 required positional arguments: 'name' and 'hours'"
     ]
    }
   ],
   "source": [
    "print(Staff())"
   ]
  },
  {
   "cell_type": "code",
   "execution_count": 63,
   "id": "d4bab46f",
   "metadata": {},
   "outputs": [
    {
     "name": "stdout",
     "output_type": "stream",
     "text": [
      "<class '__main__.Staff'>\n"
     ]
    }
   ],
   "source": [
    "print(Staff)"
   ]
  },
  {
   "cell_type": "code",
   "execution_count": null,
   "id": "c09c1cbb",
   "metadata": {},
   "outputs": [],
   "source": [
    "new_staff = Staff(\"Amy\", 40)"
   ]
  },
  {
   "cell_type": "code",
   "execution_count": null,
   "id": "b7f6efbd",
   "metadata": {},
   "outputs": [
    {
     "name": "stdout",
     "output_type": "stream",
     "text": [
      "Amy works for 40 hours\n"
     ]
    }
   ],
   "source": [
    "print(repr(new_staff)) #can get statement to print if use repr function. Instance must be made after class is computed.\n",
    "#found at https://www.geeksforgeeks.org/python-repr-function/"
   ]
  },
  {
   "cell_type": "code",
   "execution_count": 64,
   "id": "c30b2384",
   "metadata": {},
   "outputs": [],
   "source": [
    "class Firm():\n",
    "    def __init__(self):\n",
    "        self.staff_list = []\n",
    "    def add_staff(self, staff):\n",
    "        self.staff_list.append(staff)"
   ]
  },
  {
   "cell_type": "code",
   "execution_count": 66,
   "id": "98a2ea8e",
   "metadata": {},
   "outputs": [
    {
     "name": "stdout",
     "output_type": "stream",
     "text": [
      "Becky works for 40 hours)\n",
      "[]\n",
      "[Becky works for 40 hours, Tom works for 35 hours]\n"
     ]
    }
   ],
   "source": [
    "#Instance\n",
    "staff1 = Staff(\"Becky\", 40)\n",
    "staff2 = Staff(\"Tom\", 35)\n",
    "print(f'{staff1.name} works for {staff1.hours} hours)')\n",
    "\n",
    "#Start firm\n",
    "my_firm = Firm()\n",
    "print(my_firm.staff_list)\n",
    "\n",
    "#Add staff to list\n",
    "my_firm.add_staff(staff1)\n",
    "my_firm.add_staff(staff2)\n",
    "\n",
    "#Show our list\n",
    "print(my_firm.staff_list)"
   ]
  },
  {
   "cell_type": "code",
   "execution_count": 67,
   "id": "397afd37",
   "metadata": {},
   "outputs": [],
   "source": [
    "#Problems#####"
   ]
  },
  {
   "cell_type": "code",
   "execution_count": 78,
   "id": "5825931b",
   "metadata": {},
   "outputs": [
    {
     "name": "stdout",
     "output_type": "stream",
     "text": [
      "0.7919869686799424\n"
     ]
    }
   ],
   "source": [
    "import random\n",
    "\n",
    "weighting = random.random()\n",
    "print(weighting)"
   ]
  },
  {
   "cell_type": "code",
   "execution_count": 74,
   "id": "3844853c",
   "metadata": {},
   "outputs": [],
   "source": [
    "class Player():\n",
    "    def __init__(self, name, num_of_armies):\n",
    "        self.name = name\n",
    "        self.num_of_armies = num_of_armies\n",
    "    \n"
   ]
  },
  {
   "cell_type": "code",
   "execution_count": 76,
   "id": "8f470ca2",
   "metadata": {},
   "outputs": [],
   "source": [
    "player1 = Player(\"Amy\", 5)\n",
    "player2 = Player(\"Tom\", 4)"
   ]
  },
  {
   "cell_type": "code",
   "execution_count": 86,
   "id": "96cef934",
   "metadata": {},
   "outputs": [
    {
     "name": "stdout",
     "output_type": "stream",
     "text": [
      "0.5573257787720931\n",
      "0.5783220597638796\n",
      "0.8539703928121167\n",
      "0.8847617421173337\n",
      "0.48399102642232417\n",
      "3.3583709998877476, 2.0823644747134136\n"
     ]
    }
   ],
   "source": [
    "sum = 0\n",
    "sumt = 0\n",
    "for i in range(player1.num_of_armies):\n",
    "    weighting = random.random()\n",
    "    print(weighting)\n",
    "    sum += weighting\n",
    "for i in range(player2.num_of_armies):\n",
    "    weighting = random.random()\n",
    "    sumt += weighting\n",
    "print(f'{sum}, {sumt}')"
   ]
  },
  {
   "cell_type": "code",
   "execution_count": 87,
   "id": "77cc7b94",
   "metadata": {},
   "outputs": [
    {
     "name": "stdout",
     "output_type": "stream",
     "text": [
      "Amy wins\n"
     ]
    }
   ],
   "source": [
    "\n",
    "\n",
    "if sum > sumt:\n",
    "    print(\"Amy wins\")\n",
    "else:\n",
    "    print(\"Tom wins\")"
   ]
  },
  {
   "cell_type": "code",
   "execution_count": null,
   "id": "b4f19abb",
   "metadata": {},
   "outputs": [],
   "source": []
  }
 ],
 "metadata": {
  "kernelspec": {
   "display_name": "Python 3",
   "language": "python",
   "name": "python3"
  },
  "language_info": {
   "codemirror_mode": {
    "name": "ipython",
    "version": 3
   },
   "file_extension": ".py",
   "mimetype": "text/x-python",
   "name": "python",
   "nbconvert_exporter": "python",
   "pygments_lexer": "ipython3",
   "version": "3.11.2"
  }
 },
 "nbformat": 4,
 "nbformat_minor": 5
}
