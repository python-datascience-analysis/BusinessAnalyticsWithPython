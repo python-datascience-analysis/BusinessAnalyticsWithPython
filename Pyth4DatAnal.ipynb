{
 "cells": [
  {
   "cell_type": "code",
   "execution_count": 20,
   "id": "fc6b09fe",
   "metadata": {},
   "outputs": [],
   "source": [
    "#Data wrangling"
   ]
  },
  {
   "cell_type": "code",
   "execution_count": 21,
   "id": "5a57fbeb",
   "metadata": {},
   "outputs": [],
   "source": [
    "import numpy as np"
   ]
  },
  {
   "cell_type": "code",
   "execution_count": 22,
   "id": "51395531",
   "metadata": {},
   "outputs": [
    {
     "name": "stdout",
     "output_type": "stream",
     "text": [
      "2.6457513110645907\n"
     ]
    }
   ],
   "source": [
    "a = 7\n",
    "b = 2\n",
    "print(np.sqrt(a))\n",
    "#numpy square root function."
   ]
  },
  {
   "cell_type": "code",
   "execution_count": 23,
   "id": "13d600b3",
   "metadata": {},
   "outputs": [],
   "source": [
    "vector = np.zeros(5)\n",
    "ones = np.ones(5)\n",
    "vector[0] = a\n",
    "vector[-1] = b\n",
    "vector_a = np.array([1, 2, 34, 7])"
   ]
  },
  {
   "cell_type": "code",
   "execution_count": 24,
   "id": "b9a9a539",
   "metadata": {},
   "outputs": [
    {
     "name": "stdout",
     "output_type": "stream",
     "text": [
      "[7. 0. 0. 0. 2.]\n",
      "[ 1  2 34  7]\n",
      "[1. 1. 1. 1. 1.]\n"
     ]
    }
   ],
   "source": [
    "print(vector)\n",
    "print(vector_a)\n",
    "print(ones)"
   ]
  },
  {
   "cell_type": "code",
   "execution_count": 25,
   "id": "5db67ee1",
   "metadata": {},
   "outputs": [],
   "source": [
    "sqrt_vector = np.sqrt(vector)"
   ]
  },
  {
   "cell_type": "code",
   "execution_count": 26,
   "id": "5a43fb2e",
   "metadata": {},
   "outputs": [
    {
     "name": "stdout",
     "output_type": "stream",
     "text": [
      "[2.64575131 0.         0.         0.         1.41421356]\n"
     ]
    }
   ],
   "source": [
    "print(sqrt_vector)"
   ]
  },
  {
   "cell_type": "code",
   "execution_count": 27,
   "id": "5a15e8fc",
   "metadata": {},
   "outputs": [],
   "source": [
    "matrix = np.zeros([3, 4])\n",
    "matrix [0, 1] = a"
   ]
  },
  {
   "cell_type": "code",
   "execution_count": 28,
   "id": "7a9d8571",
   "metadata": {},
   "outputs": [
    {
     "name": "stdout",
     "output_type": "stream",
     "text": [
      "[[0. 7. 0. 0.]\n",
      " [0. 0. 0. 0.]\n",
      " [0. 0. 0. 0.]]\n"
     ]
    }
   ],
   "source": [
    "print(matrix)"
   ]
  },
  {
   "cell_type": "code",
   "execution_count": 29,
   "id": "32063a1b",
   "metadata": {},
   "outputs": [
    {
     "name": "stdout",
     "output_type": "stream",
     "text": [
      "(3, 4)\n",
      "12\n"
     ]
    }
   ],
   "source": [
    "print(matrix.shape)\n",
    "print(matrix.size)\n",
    "ones = np.ones((1, matrix.shape[0])) #np.ones(rows, columns)"
   ]
  },
  {
   "cell_type": "code",
   "execution_count": 30,
   "id": "eeabe707",
   "metadata": {},
   "outputs": [
    {
     "name": "stdout",
     "output_type": "stream",
     "text": [
      "[[1. 1. 1.]]\n"
     ]
    }
   ],
   "source": [
    "print(ones)"
   ]
  },
  {
   "cell_type": "code",
   "execution_count": 31,
   "id": "22439763",
   "metadata": {},
   "outputs": [
    {
     "name": "stdout",
     "output_type": "stream",
     "text": [
      "[[0. 7. 0. 0.]]\n",
      "[[1. 0. 0. 0. 0.]\n",
      " [0. 1. 0. 0. 0.]\n",
      " [0. 0. 1. 0. 0.]\n",
      " [0. 0. 0. 1. 0.]\n",
      " [0. 0. 0. 0. 1.]]\n"
     ]
    }
   ],
   "source": [
    "matrix_new = np.matmul(ones,matrix)\n",
    "print(matrix_new)\n",
    "matrix_identity = np.eye(5)\n",
    "print(matrix_identity)"
   ]
  },
  {
   "cell_type": "code",
   "execution_count": 32,
   "id": "7dc7c47f",
   "metadata": {},
   "outputs": [
    {
     "name": "stdout",
     "output_type": "stream",
     "text": [
      "7.0\n",
      "0.5833333333333334\n",
      "1.9346977943739836\n"
     ]
    }
   ],
   "source": [
    "print(matrix.sum())\n",
    "print(matrix.mean())\n",
    "print(matrix.std())"
   ]
  },
  {
   "cell_type": "code",
   "execution_count": 33,
   "id": "caaeb867",
   "metadata": {},
   "outputs": [],
   "source": [
    "idx =np.arange(1, 10, 0.1)\n",
    "idx = np.linspace(1, 10, 100)\n",
    "#arange makes an array with start, end points and a step size. line space takes the start and end points \n",
    "#and optimises the step-size for the number of points."
   ]
  },
  {
   "cell_type": "code",
   "execution_count": 34,
   "id": "657a1d0a",
   "metadata": {},
   "outputs": [
    {
     "name": "stdout",
     "output_type": "stream",
     "text": [
      "[ 1.          1.09090909  1.18181818  1.27272727  1.36363636  1.45454545\n",
      "  1.54545455  1.63636364  1.72727273  1.81818182  1.90909091  2.\n",
      "  2.09090909  2.18181818  2.27272727  2.36363636  2.45454545  2.54545455\n",
      "  2.63636364  2.72727273  2.81818182  2.90909091  3.          3.09090909\n",
      "  3.18181818  3.27272727  3.36363636  3.45454545  3.54545455  3.63636364\n",
      "  3.72727273  3.81818182  3.90909091  4.          4.09090909  4.18181818\n",
      "  4.27272727  4.36363636  4.45454545  4.54545455  4.63636364  4.72727273\n",
      "  4.81818182  4.90909091  5.          5.09090909  5.18181818  5.27272727\n",
      "  5.36363636  5.45454545  5.54545455  5.63636364  5.72727273  5.81818182\n",
      "  5.90909091  6.          6.09090909  6.18181818  6.27272727  6.36363636\n",
      "  6.45454545  6.54545455  6.63636364  6.72727273  6.81818182  6.90909091\n",
      "  7.          7.09090909  7.18181818  7.27272727  7.36363636  7.45454545\n",
      "  7.54545455  7.63636364  7.72727273  7.81818182  7.90909091  8.\n",
      "  8.09090909  8.18181818  8.27272727  8.36363636  8.45454545  8.54545455\n",
      "  8.63636364  8.72727273  8.81818182  8.90909091  9.          9.09090909\n",
      "  9.18181818  9.27272727  9.36363636  9.45454545  9.54545455  9.63636364\n",
      "  9.72727273  9.81818182  9.90909091 10.        ]\n"
     ]
    }
   ],
   "source": [
    "print(idx)"
   ]
  },
  {
   "cell_type": "code",
   "execution_count": 35,
   "id": "a81aa553",
   "metadata": {},
   "outputs": [
    {
     "name": "stdout",
     "output_type": "stream",
     "text": [
      "[[1 2 3]\n",
      " [3 6 8]] and \n",
      "[[ 0 -2  3]\n",
      " [ 4 -5  1]]\n",
      "Horizontal\n",
      "[[ 1  2  3  0 -2  3]\n",
      " [ 3  6  8  4 -5  1]]\n",
      "Vertical\n",
      "[[ 1  2  3]\n",
      " [ 3  6  8]\n",
      " [ 0 -2  3]\n",
      " [ 4 -5  1]]\n"
     ]
    }
   ],
   "source": [
    "matrix_a = np.array([[1, 2, 3], [3, 6, 8]])\n",
    "matrix_b = np.array([[0, -2, 3], [4, -5, 1]])\n",
    "print(matrix_a, matrix_b, sep = \" and \\n\")\n",
    "\n",
    "print(\"Horizontal\")\n",
    "print(np.hstack([matrix_a, matrix_b]))\n",
    "\n",
    "print(\"Vertical\")\n",
    "print(np.vstack([matrix_a, matrix_b]))"
   ]
  },
  {
   "cell_type": "code",
   "execution_count": 36,
   "id": "866f0d80",
   "metadata": {},
   "outputs": [
    {
     "name": "stdout",
     "output_type": "stream",
     "text": [
      "[1 2 3 3 6 8]\n",
      "[1 2 3 3 6 8]\n"
     ]
    }
   ],
   "source": [
    "print(matrix_a.ravel())\n",
    "print(matrix_a.flatten())\n",
    "#flatten returns a copy"
   ]
  },
  {
   "cell_type": "code",
   "execution_count": 37,
   "id": "944f7791",
   "metadata": {},
   "outputs": [],
   "source": [
    "rav = matrix_a.ravel()\n",
    "flat = matrix_a.flatten()\n",
    "\n",
    "#Changing rav and flat\n",
    "flat[2] = 99\n",
    "rav[2] = 99"
   ]
  },
  {
   "cell_type": "code",
   "execution_count": 38,
   "id": "245a2da2",
   "metadata": {},
   "outputs": [
    {
     "name": "stdout",
     "output_type": "stream",
     "text": [
      "[ 1  2 99  3  6  8] [ 1  2 99  3  6  8]\n"
     ]
    }
   ],
   "source": [
    "print(rav, flat)"
   ]
  },
  {
   "cell_type": "code",
   "execution_count": 39,
   "id": "4c2da143",
   "metadata": {},
   "outputs": [],
   "source": [
    "#Numpy finished"
   ]
  },
  {
   "cell_type": "code",
   "execution_count": 40,
   "id": "8c276a59",
   "metadata": {},
   "outputs": [],
   "source": [
    "#Start Pandas"
   ]
  },
  {
   "cell_type": "code",
   "execution_count": 41,
   "id": "33bf7cf3",
   "metadata": {},
   "outputs": [],
   "source": [
    "import pandas"
   ]
  },
  {
   "cell_type": "code",
   "execution_count": 42,
   "id": "07c05996",
   "metadata": {},
   "outputs": [
    {
     "ename": "ModuleNotFoundError",
     "evalue": "No module named 'yfinance'",
     "output_type": "error",
     "traceback": [
      "\u001b[31m---------------------------------------------------------------------------\u001b[39m",
      "\u001b[31mModuleNotFoundError\u001b[39m                       Traceback (most recent call last)",
      "\u001b[36mCell\u001b[39m\u001b[36m \u001b[39m\u001b[32mIn[42]\u001b[39m\u001b[32m, line 1\u001b[39m\n\u001b[32m----> \u001b[39m\u001b[32m1\u001b[39m \u001b[38;5;28;01mimport\u001b[39;00m\u001b[38;5;250m \u001b[39m\u001b[34;01myfinance\u001b[39;00m\n\u001b[32m      2\u001b[39m \u001b[38;5;28;01mimport\u001b[39;00m\u001b[38;5;250m \u001b[39m\u001b[34;01mmatplotlib\u001b[39;00m\u001b[34;01m.\u001b[39;00m\u001b[34;01mpyplot\u001b[39;00m\u001b[38;5;250m \u001b[39m\u001b[38;5;28;01mas\u001b[39;00m\u001b[38;5;250m \u001b[39m\u001b[34;01mplt\u001b[39;00m\n",
      "\u001b[31mModuleNotFoundError\u001b[39m: No module named 'yfinance'"
     ]
    }
   ],
   "source": [
    "import yfinance\n",
    "import matplotlib.pyplot as plt\n"
   ]
  },
  {
   "cell_type": "code",
   "execution_count": null,
   "id": "b6d13f42",
   "metadata": {},
   "outputs": [
    {
     "name": "stderr",
     "output_type": "stream",
     "text": [
      "[*********************100%***********************]  1 of 1 completed"
     ]
    },
    {
     "name": "stdout",
     "output_type": "stream",
     "text": [
      "<class 'pandas.core.frame.DataFrame'>\n"
     ]
    },
    {
     "name": "stderr",
     "output_type": "stream",
     "text": [
      "\n"
     ]
    }
   ],
   "source": [
    "data = yfinance.download(\"BTC-USD\", period = '1d', interval = \"1m\")\n",
    "print(type(data))"
   ]
  },
  {
   "cell_type": "code",
   "execution_count": null,
   "id": "516959c6",
   "metadata": {},
   "outputs": [
    {
     "name": "stdout",
     "output_type": "stream",
     "text": [
      "Price                              Close           High            Low  \\\n",
      "Ticker                           BTC-USD        BTC-USD        BTC-USD   \n",
      "Datetime                                                                 \n",
      "2025-05-27 00:00:00+00:00  109459.179688  109459.179688  109459.179688   \n",
      "2025-05-27 00:01:00+00:00  109442.468750  109442.468750  109442.468750   \n",
      "2025-05-27 00:02:00+00:00  109430.828125  109430.828125  109430.828125   \n",
      "2025-05-27 00:04:00+00:00  109408.242188  109408.242188  109408.242188   \n",
      "2025-05-27 00:05:00+00:00  109369.820312  109369.820312  109369.820312   \n",
      "\n",
      "Price                               Open     Volume  \n",
      "Ticker                           BTC-USD    BTC-USD  \n",
      "Datetime                                             \n",
      "2025-05-27 00:00:00+00:00  109459.179688          0  \n",
      "2025-05-27 00:01:00+00:00  109442.468750  816209920  \n",
      "2025-05-27 00:02:00+00:00  109430.828125          0  \n",
      "2025-05-27 00:04:00+00:00  109408.242188  105410560  \n",
      "2025-05-27 00:05:00+00:00  109369.820312          0  \n"
     ]
    }
   ],
   "source": [
    "print(data.head())"
   ]
  },
  {
   "cell_type": "code",
   "execution_count": null,
   "id": "2601e160",
   "metadata": {},
   "outputs": [
    {
     "data": {
      "image/png": "[encoded data removed]",
      "text/plain": [
       "<Figure size 640x480 with 1 Axes>"
      ]
     },
     "metadata": {},
     "output_type": "display_data"
    }
   ],
   "source": [
    "plt.plot(data.Close)\n",
    "plt.savefig(r\"DW_bitcoin.png\")\n",
    "plt.show()"
   ]
  },
  {
   "cell_type": "code",
   "execution_count": null,
   "id": "cb45d29f",
   "metadata": {},
   "outputs": [
    {
     "name": "stderr",
     "output_type": "stream",
     "text": [
      "[*********************100%***********************]  1 of 1 completed\n"
     ]
    },
    {
     "data": {
      "image/png": "[encoded data removed]",
      "text/plain": [
       "<Figure size 640x480 with 1 Axes>"
      ]
     },
     "metadata": {},
     "output_type": "display_data"
    }
   ],
   "source": [
    "apple = yfinance.download(\"AAPL\", period  ='1mo', interval = '1d')\n",
    "plt.plot(apple.Close)\n",
    "plt.show()"
   ]
  },
  {
   "cell_type": "code",
   "execution_count": null,
   "id": "e764c60a",
   "metadata": {},
   "outputs": [],
   "source": [
    "#data = yfinance.download(\"BTC-USD\", period = '1d', interval = '1m')  yfinance has a nice download feature\n",
    "#plt.plot(data.Close) plot a column\n",
    "#plt.show()"
   ]
  },
  {
   "cell_type": "code",
   "execution_count": null,
   "id": "66fbd5e2",
   "metadata": {},
   "outputs": [],
   "source": [
    "import requests\n",
    "import numpy\n",
    "import pandas\n",
    "import matplotlib.pyplot as plt\n",
    "#Country list\n",
    "countries = ['india', 'united-kingdom']\n",
    "#Empty list of pandas DataFrames\n",
    "dfs = []"
   ]
  },
  {
   "cell_type": "code",
   "execution_count": null,
   "id": "e0f07f72",
   "metadata": {},
   "outputs": [
    {
     "name": "stdout",
     "output_type": "stream",
     "text": [
      "     year  month  m_ano  m_temp  a_ano  a_temp\n",
      "0  1816.0    5.0 -0.542   1.344    NaN     NaN\n",
      "1  1816.0    6.0 -1.214   1.506    NaN     NaN\n",
      "2  1816.0    7.0 -2.016   1.895 -1.702   1.419\n",
      "3  1816.0    8.0 -1.575   1.040 -1.460   1.303\n",
      "4  1816.0    9.0 -2.196   1.237 -1.475   1.343\n",
      "     year  month  m_ano  m_temp  a_ano  a_temp\n",
      "0  1750.0    1.0 -0.518   1.840    NaN     NaN\n",
      "1  1750.0    2.0  1.769   2.245 -0.076   0.822\n",
      "2  1750.0    3.0  1.915   2.662 -0.046   0.850\n",
      "3  1750.0    4.0  0.229   1.575 -0.121   0.851\n",
      "4  1750.0    5.0 -0.426   1.401 -0.375   0.837\n"
     ]
    }
   ],
   "source": [
    "for country in countries:\n",
    "    url_part1 = 'https://berkeley-earth-temperature.s3.us-west-1.amazonaws.com/Regional/TAVG/'\n",
    "    url_part2 ='-TAVG-Trend.txt'\n",
    "    url = url_part1 + country + url_part2\n",
    "    response = requests.get(url, allow_redirects = True)\n",
    "    #Obtain strings\n",
    "    strings = response.text\n",
    "    file_name = country + '_output.txt'\n",
    "    open(file_name, 'w').write(strings)\n",
    "    #Load data to obtain DataFrame\n",
    "    data = numpy.loadtxt(file_name, comments = '%')\n",
    "    df_name = 'df' + '_country'\n",
    "    df_name = pandas.DataFrame(data[:,:6], columns = ['year', 'month', 'm_ano', 'm_temp', 'a_ano', 'a_temp'])\n",
    "    dfs.append(df_name)\n",
    "    print(df_name.head())"
   ]
  },
  {
   "cell_type": "code",
   "execution_count": null,
   "id": "256b1243",
   "metadata": {},
   "outputs": [],
   "source": [
    "#requests.get sends a request to the url where the text files are and .text method is used \n",
    "#in response.text to access the content of the servers response and decode it into strings \n",
    "\n",
    "#numpy.txt(file_name) loads text into a numpy arrat. This is used to build the dataframe.\n",
    "\n",
    "#pandas.DataFrame(data[:,:6]) means select all the rows from the numpy array and the first 6 columns."
   ]
  },
  {
   "cell_type": "code",
   "execution_count": null,
   "id": "07b3cfb3",
   "metadata": {},
   "outputs": [
    {
     "name": "stdout",
     "output_type": "stream",
     "text": [
      "     year  month  india  united-kingdom\n",
      "0  1816.0    5.0 -0.542          -1.330\n",
      "1  1816.0    6.0 -1.214          -1.604\n",
      "2  1816.0    7.0 -2.016          -2.032\n",
      "3  1816.0    8.0 -1.575          -1.854\n",
      "4  1816.0    9.0 -2.196          -1.673\n",
      "        year  month  india  united-kingdom\n",
      "2451  2020.0    8.0  0.752           1.511\n",
      "2452  2020.0    9.0  1.227           0.606\n",
      "2453  2020.0   10.0  1.239          -0.037\n",
      "2454  2020.0   11.0  0.612           2.212\n",
      "2455  2020.0   12.0  0.725           1.359\n"
     ]
    }
   ],
   "source": [
    "#Merge data\n",
    "dfs = [df[['year', 'month', 'm_ano']] for df in dfs]\n",
    "#Rename variable\n",
    "dfs_renamed = []\n",
    "for df, country in zip(dfs, countries):\n",
    "    df = df.rename(columns = {'m_ano':country})\n",
    "    dfs_renamed.append(df)\n",
    "\n",
    "#Merge DataFrames\n",
    "df_merged = dfs_renamed[0].merge(dfs_renamed[1])\n",
    "df_merged.reindex(['year', 'month'])\n",
    "print(df_merged.head())\n",
    "print(df_merged.tail())"
   ]
  },
  {
   "cell_type": "code",
   "execution_count": null,
   "id": "a60440f4",
   "metadata": {},
   "outputs": [],
   "source": [
    "#df.rename(columns{'m_ano}: country) renames the colums used from 'm_ano' into countries"
   ]
  },
  {
   "cell_type": "code",
   "execution_count": null,
   "id": "606e9122",
   "metadata": {},
   "outputs": [
    {
     "data": {
      "image/png": "[encoded data removed]",
      "text/plain": [
       "<Figure size 640x480 with 2 Axes>"
      ]
     },
     "metadata": {},
     "output_type": "display_data"
    }
   ],
   "source": [
    "#Plot temperatures\n",
    "fig, axes = plt.subplots(nrows = 1, ncols = 2, sharey = True)\n",
    "df_merged['india'].plot(ax = axes [0], color = 'red')\n",
    "df_merged['united-kingdom'].plot(ax = axes[1], color = 'blue')\n",
    "#Modifications\n",
    "axes[0].set_xlabel('Time')\n",
    "axes[1].set_xlabel('Time')\n",
    "axes[0].set_ylabel('Anomaly')\n",
    "axes[0].set_title('India')\n",
    "axes[1].set_title('UK')\n",
    "plt.savefig('DW_climate.png')\n",
    "plt.show()"
   ]
  },
  {
   "cell_type": "code",
   "execution_count": null,
   "id": "8fd7643c",
   "metadata": {},
   "outputs": [],
   "source": [
    "#Both graphs trend upwards with a noticable shift upwards in both for the later \n",
    "#years(>2000 months) Global warming?"
   ]
  },
  {
   "cell_type": "code",
   "execution_count": null,
   "id": "8b824a05",
   "metadata": {},
   "outputs": [],
   "source": [
    "import numpy \n",
    "import pandas\n",
    "import matplotlib.pyplot as plt"
   ]
  },
  {
   "cell_type": "code",
   "execution_count": null,
   "id": "6789a15a",
   "metadata": {},
   "outputs": [],
   "source": [
    "class Rate():\n",
    "    def __init__(self, N=1000, dt=0.05, rho=0.001, alpha=10, gamma=0.04, r0=0.04):\n",
    "        \"\"\"\n",
    "        Parameters\n",
    "        ------------\n",
    "        N: Number of steps\n",
    "        dt: time steps\n",
    "        rho: Scale\n",
    "        alpha: Speed of adjustment\n",
    "        gamma: Long-term equilibrium\n",
    "        r0: Current interest rate\n",
    "        \"\"\"\n",
    "\n",
    "        self.N = N\n",
    "        self.dt = dt\n",
    "        self.rho  = rho\n",
    "        self.alpha = alpha\n",
    "        self.gamma = gamma\n",
    "        self.r0 = r0\n",
    "    \n",
    "    def wiener(self):\n",
    "        \"\"\"\n",
    "        Wiener process\n",
    "        Returns\n",
    "        -----------\n",
    "        Array of realisations of Weiner process\n",
    "        \"\"\"\n",
    "\n",
    "        #Result vector\n",
    "        out = numpy.zeros(self.N)\n",
    "\n",
    "        #Initial value\n",
    "        out[0] = numpy.sqrt(self.dt) * self.rho * numpy.random.normal(0,1)\n",
    "\n",
    "        for j in range(1, self.N):\n",
    "            out[j] = out[j-1] + numpy.sqrt(self.dt) * self.rho * numpy.random.normal(0,1)\n",
    "\n",
    "        return out\n",
    "    def vasicek(self):\n",
    "        \"\"\"\n",
    "        Returns\n",
    "        ----------\n",
    "        Array of simulated interest rate\n",
    "        \"\"\"\n",
    "\n",
    "        #Result vector\n",
    "        out=numpy.zeros(self.N)\n",
    "\n",
    "        #Initial value\n",
    "        out[0] = self.r0\n",
    "\n",
    "        #Wiener processs\n",
    "        w = Rate()\n",
    "        w = w.wiener()\n",
    "\n",
    "        for j in range(1, self.N):\n",
    "           out[j] = out[j-1] + self.alpha*(self.gamma - out[j-1])*self.dt + w[j]\n",
    "        return out"
   ]
  },
  {
   "cell_type": "code",
   "execution_count": null,
   "id": "3d10454f",
   "metadata": {},
   "outputs": [
    {
     "data": {
      "image/png": "[encoded data removed]",
      "text/plain": [
       "<Figure size 640x480 with 1 Axes>"
      ]
     },
     "metadata": {},
     "output_type": "display_data"
    }
   ],
   "source": [
    "#Initialise rate instance\n",
    "rate = Rate()\n",
    "\n",
    "#Apply vasicek method\n",
    "rate = rate.vasicek()\n",
    "\n",
    "#Plot\n",
    "plt.plot(rate)\n",
    "plt.savefig('DW_rate.png')\n",
    "plt.show()"
   ]
  },
  {
   "cell_type": "code",
   "execution_count": null,
   "id": "af6003ef",
   "metadata": {},
   "outputs": [],
   "source": [
    "from sklearn.datasets import make_classification"
   ]
  },
  {
   "cell_type": "code",
   "execution_count": null,
   "id": "58aef60d",
   "metadata": {},
   "outputs": [
    {
     "name": "stdout",
     "output_type": "stream",
     "text": [
      "[[ 1.71013233 -1.0576587 ]\n",
      " [ 0.7897826  -0.18549795]\n",
      " [ 0.89550671 -2.31650411]\n",
      " [ 1.15917173 -2.09475756]\n",
      " [-0.46834057  1.09276908]\n",
      " [ 0.22707021 -0.37142133]\n",
      " [ 0.2703469  -1.09670021]\n",
      " [ 1.61551329 -0.33485206]\n",
      " [ 0.14194682  0.10683522]\n",
      " [-0.79133757  1.25095342]\n",
      " [ 1.19225269 -0.38112504]\n",
      " [-1.6981129   1.10543381]\n",
      " [ 1.18318321 -0.03366172]\n",
      " [-1.19313155  1.3100249 ]\n",
      " [ 1.66413494 -0.4030922 ]\n",
      " [ 0.97811991  0.27024749]\n",
      " [ 3.00363092 -1.76111982]\n",
      " [-1.8364236   0.88122762]\n",
      " [ 0.08042135  0.88699013]\n",
      " [-3.00334069  0.77782726]\n",
      " [ 0.13586418 -0.941112  ]\n",
      " [-1.38520174  0.92462352]\n",
      " [-0.12928871 -1.01614882]\n",
      " [-1.51752571  0.84103123]\n",
      " [ 1.52725215 -2.25752364]\n",
      " [-1.18366777  0.14090163]\n",
      " [-0.22133208  0.70010221]\n",
      " [-0.09367816 -0.29735291]\n",
      " [ 0.60589893  0.05519792]\n",
      " [ 1.98768538 -0.17521752]\n",
      " [-1.13976577  0.73711388]\n",
      " [ 1.13316201 -1.65123453]\n",
      " [ 2.00290913 -0.46429569]\n",
      " [ 0.59013009 -1.92586993]\n",
      " [-0.26414847  0.37883134]\n",
      " [ 1.35725118 -1.27541255]\n",
      " [ 0.3967541   1.10078242]\n",
      " [-0.18557439 -0.91650925]\n",
      " [ 2.31754231 -1.90914063]\n",
      " [-2.2597842   1.02239921]\n",
      " [-1.43244885  0.7959671 ]\n",
      " [ 0.1286978   0.78403479]\n",
      " [-1.92811918  1.36386294]\n",
      " [ 1.56957644 -0.22398165]\n",
      " [-1.78499049  1.13927959]\n",
      " [ 1.0812514  -0.60951422]\n",
      " [-1.60566503  0.89871924]\n",
      " [ 0.29019217 -0.30557738]\n",
      " [ 1.12620296  0.40887539]\n",
      " [ 0.91954708 -1.03892938]\n",
      " [-1.29863877  1.23506819]\n",
      " [-1.75027418  1.73430415]\n",
      " [-1.28190006  0.42051798]\n",
      " [-0.80797217  2.09354802]\n",
      " [-1.78519887  0.86352107]\n",
      " [-0.01841524  0.56140691]\n",
      " [-1.038333    1.3971311 ]\n",
      " [ 1.20038336 -1.75852396]\n",
      " [ 0.47064118 -0.61411595]\n",
      " [ 0.05614947  1.23180795]\n",
      " [ 2.65571511  0.09062511]\n",
      " [ 0.28779769  0.43202601]\n",
      " [-2.43833103  1.16747688]\n",
      " [ 0.71432418  1.03473232]\n",
      " [ 0.11125773  0.48741934]\n",
      " [-1.5803748   1.03631804]\n",
      " [-0.06922169  0.99645803]\n",
      " [-1.45737166  0.61101656]\n",
      " [ 2.67676054 -2.84960561]\n",
      " [-1.5678991   1.20519946]\n",
      " [ 0.05445121  0.30422253]\n",
      " [-1.78497429  1.26054582]\n",
      " [-0.9561932   1.17932513]\n",
      " [ 0.79717023  1.02555487]\n",
      " [ 1.91010491 -0.69938331]\n",
      " [ 0.44567654  0.48581141]\n",
      " [ 1.26199776 -3.33494325]\n",
      " [-1.88269715  1.04214292]\n",
      " [ 1.81448619 -1.17820276]\n",
      " [-0.90214361  1.27418163]\n",
      " [ 1.97913041 -2.48756689]\n",
      " [ 2.19698244 -2.21417953]\n",
      " [ 1.26974356 -0.90028893]\n",
      " [ 1.44966275  1.54345533]\n",
      " [ 1.56427682 -3.28717219]\n",
      " [ 0.33924399  0.78935889]\n",
      " [-0.83936886  1.18459578]\n",
      " [-0.92172926  1.10638749]\n",
      " [-0.80593904  0.93458518]\n",
      " [-1.96518271  1.26698428]\n",
      " [-1.03504233  1.6092855 ]\n",
      " [ 0.06051205  0.54156405]\n",
      " [-2.13770381  1.20531621]\n",
      " [ 0.87013866 -2.02005321]\n",
      " [-1.30409936  1.04005749]\n",
      " [ 0.79745145 -0.86625211]\n",
      " [ 1.40023497  0.03066679]\n",
      " [-0.86064754  0.69898322]\n",
      " [-1.70224547  1.45977579]\n",
      " [-0.91008065  0.94180082]\n",
      " [ 1.24249476 -1.1419223 ]\n",
      " [-1.46688963  0.97954504]\n",
      " [-0.26420293  0.90204523]\n",
      " [-2.17551707  1.52060877]\n",
      " [ 0.03229643 -2.09233673]\n",
      " [ 0.64029677  0.78195113]\n",
      " [-2.13109098  1.13029549]\n",
      " [ 0.89452356  0.12347408]\n",
      " [ 0.39572592 -1.25544473]\n",
      " [-1.64778324  0.78047503]\n",
      " [ 0.63707969 -1.2836944 ]\n",
      " [-0.5120081   0.96731933]\n",
      " [-0.42780321  0.58042026]\n",
      " [-0.78323019  0.45995556]\n",
      " [ 1.54827763 -2.44259742]\n",
      " [-0.43576276  0.8379805 ]\n",
      " [-0.55829644  0.97670285]\n",
      " [ 0.94099878 -0.75893567]\n",
      " [ 0.66121292 -2.67789057]\n",
      " [ 0.24638017  0.81014049]\n",
      " [ 0.32176872  0.99758968]\n",
      " [-0.98957613  1.06800351]\n",
      " [ 2.71747134 -2.14465571]\n",
      " [-2.30554393  1.57297546]\n",
      " [-0.81771314  1.28076894]\n",
      " [-1.14098644  0.93906223]\n",
      " [-1.56905513  1.35381971]\n",
      " [-0.55830795  0.79636382]\n",
      " [-1.07490887  0.74567067]\n",
      " [-1.79140088  1.05274679]\n",
      " [ 0.1758156  -3.16827833]\n",
      " [-1.01983117  0.9391495 ]\n",
      " [ 1.64961788 -1.09412134]\n",
      " [ 2.03952881 -1.59620926]\n",
      " [ 0.9265114   0.69962052]\n",
      " [ 0.67567812  0.43289766]\n",
      " [-1.5523805   1.07502293]\n",
      " [-1.60491831  1.17603205]\n",
      " [ 1.78569948 -1.81898881]\n",
      " [ 0.08842807  0.54735329]\n",
      " [ 1.67854627 -1.06396933]\n",
      " [ 1.6935318   0.86337126]\n",
      " [ 0.17262262  0.73461337]\n",
      " [ 0.70484309 -1.59367851]\n",
      " [ 0.21788886 -1.14121968]\n",
      " [ 0.02821158  0.3116573 ]\n",
      " [ 0.87247529 -3.9380936 ]\n",
      " [-1.18202117  1.03556831]\n",
      " [ 0.8692432  -0.86431432]\n",
      " [-0.3640214   1.26710105]\n",
      " [-0.66230391 -1.34328834]\n",
      " [ 1.05762644 -1.65608762]\n",
      " [ 0.14569462 -1.51444408]\n",
      " [ 1.27469484 -1.76055257]\n",
      " [-0.98323001  0.94339574]\n",
      " [-1.18386259  1.27759084]\n",
      " [-0.98610957  0.52502746]\n",
      " [ 0.18700927  0.61697221]\n",
      " [ 0.20352045 -2.1018821 ]\n",
      " [-1.1154753   0.75033135]\n",
      " [ 0.63537449  0.72281838]\n",
      " [ 1.04015236 -0.232705  ]\n",
      " [-1.05234111  1.1231546 ]\n",
      " [-0.16246258 -0.54327116]\n",
      " [ 0.09781618 -1.67622249]\n",
      " [ 2.46544606 -2.39659122]\n",
      " [-1.04599917  1.14595799]\n",
      " [-1.39744457  0.90099152]\n",
      " [-1.70097338  0.90939462]\n",
      " [ 1.02773672  2.29158099]\n",
      " [ 1.0248044  -1.69359103]\n",
      " [-1.57250597  0.79499922]\n",
      " [-2.02612685  1.20763875]\n",
      " [ 0.98541947 -1.77077568]\n",
      " [ 0.83780838 -1.43076209]\n",
      " [-0.07810102  0.82211301]\n",
      " [-0.55082136  1.06915512]\n",
      " [-0.56793412 -0.63441136]\n",
      " [-0.23874479  0.91426815]\n",
      " [-0.90100481  0.79976191]\n",
      " [-1.5447344   1.44478006]\n",
      " [-0.41924304  0.17611522]\n",
      " [-0.20631882  0.72100318]\n",
      " [ 1.34455118 -0.48116993]\n",
      " [-0.5748934   0.72878288]\n",
      " [ 1.33683562 -0.40075299]\n",
      " [ 0.27388218 -0.4088018 ]\n",
      " [-1.42196752  0.99902406]\n",
      " [ 1.02340738 -1.05395629]\n",
      " [-1.45225831  0.68213505]\n",
      " [ 0.4208736   0.03504603]\n",
      " [-0.10391169 -2.94214604]\n",
      " [-0.166014    0.97724336]\n",
      " [-0.5599383   0.85071409]\n",
      " [-0.43259189  0.73902484]\n",
      " [ 1.11318738  0.6147761 ]\n",
      " [ 1.13327006  0.64160354]\n",
      " [-2.39820853  1.24064986]\n",
      " [ 0.02665496  0.20368383]\n",
      " [-1.53299492  0.53214437]]\n",
      "<class 'numpy.ndarray'>\n",
      "[1 1 1 1 0 1 1 1 1 0 1 0 1 0 1 1 1 0 0 0 1 0 1 0 1 1 0 1 1 1 0 1 1 1 1 1 0\n",
      " 1 1 0 0 0 0 1 0 1 0 1 1 1 0 0 0 1 0 0 0 1 1 0 1 0 0 1 0 0 0 0 1 0 0 0 0 1\n",
      " 1 0 1 0 1 0 1 1 1 1 1 1 0 0 0 0 1 0 0 1 0 1 1 0 0 0 1 0 0 0 1 0 0 1 1 0 1\n",
      " 0 0 0 1 0 0 1 1 0 0 0 1 0 0 1 0 0 0 0 1 0 1 1 1 1 0 0 1 1 1 1 0 1 1 1 1 0\n",
      " 1 0 1 1 1 1 0 0 0 0 1 0 1 1 0 1 1 1 0 0 0 1 1 0 0 1 1 0 0 1 1 0 0 1 0 1 0\n",
      " 1 1 0 1 0 1 1 0 0 0 1 1 0 1 0]\n",
      "<class 'numpy.ndarray'>\n"
     ]
    }
   ],
   "source": [
    "#Data matrix X and response y\n",
    "X, y = make_classification(n_samples = 200, n_features = 2, n_redundant = 0, n_clusters_per_class = 1)\n",
    "#Data matrix\n",
    "print(X)\n",
    "print(type(X))\n",
    "#Response (classification)\n",
    "print(y)\n",
    "print(type(y))\n",
    "\n",
    "#make_classification makes two matrices.\n",
    "#This makes a single cluster with 200 observations and two columns/features with no redundant data and\n",
    "#another matrix of labels (they are controlled by other variables not listed here \n",
    "#[n_classes and n_samples])"
   ]
  },
  {
   "cell_type": "code",
   "execution_count": null,
   "id": "10b17a8c",
   "metadata": {},
   "outputs": [],
   "source": [
    "import pandas as pd"
   ]
  },
  {
   "cell_type": "code",
   "execution_count": null,
   "id": "f0dc67f6",
   "metadata": {},
   "outputs": [
    {
     "name": "stdout",
     "output_type": "stream",
     "text": [
      "         x1        x2  y\n",
      "0  1.194458 -0.385674  1\n",
      "1 -0.360007  1.020625  1\n",
      "2  0.853131 -1.277886  0\n",
      "3  1.157384 -0.329776  0\n",
      "4  0.001052  2.347667  1\n",
      "           x1        x2  y\n",
      "195  1.783408  1.462356  1\n",
      "196  1.232023 -0.069271  0\n",
      "197  1.334325  0.223536  0\n",
      "198  1.592287  0.764096  0\n",
      "199  0.887792  0.826632  1\n"
     ]
    }
   ],
   "source": [
    "#Merge converted DataFrame and Series\n",
    "df = pd.concat([pd.DataFrame(X), pd.Series(y)], axis = 1)\n",
    "#Rename columns\n",
    "df.columns = ['x1', 'x2', 'y']\n",
    "print(df.head())\n",
    "print(df.tail())"
   ]
  },
  {
   "cell_type": "code",
   "execution_count": null,
   "id": "0646fa63",
   "metadata": {},
   "outputs": [],
   "source": [
    "#Roulette strategy (also called Metingale strategy)\n",
    "#Essentially play black and red and double your bet if you lose, always returning to your initial bet\n",
    "# upon a win.\n",
    "#Seemingly always recover a loss"
   ]
  },
  {
   "cell_type": "code",
   "execution_count": null,
   "id": "da9f3a46",
   "metadata": {},
   "outputs": [],
   "source": [
    "#Need to model roulette game. 18 red 18 black and 1 green (European).\n",
    "#Randomise red/black bet\n",
    "#Double bet if lost previously\n",
    "#return to initial bet if win\n",
    "\n",
    "#Will the gambler win?"
   ]
  },
  {
   "cell_type": "code",
   "execution_count": null,
   "id": "6e10ff73",
   "metadata": {},
   "outputs": [
    {
     "name": "stdout",
     "output_type": "stream",
     "text": [
      "\n",
      "Starting round. Pot: 1000, Current bet: 10\n",
      "0\n",
      "1\n",
      "It's black\n",
      "You lose!\n",
      "990\n",
      "End of round. Pot: 990\n",
      "\n",
      "\n",
      "Starting round. Pot: 990, Current bet: 20\n",
      "0\n",
      "0\n",
      "It's black\n",
      "You Win!\n",
      "1010\n",
      "End of round. Pot: 1010\n",
      "\n",
      "\n",
      "Starting round. Pot: 1010, Current bet: 10\n",
      "0\n",
      "1\n",
      "It's black\n",
      "You lose!\n",
      "1000\n",
      "End of round. Pot: 1000\n",
      "\n",
      "\n",
      "Starting round. Pot: 1000, Current bet: 20\n",
      "1\n",
      "1\n",
      "Its's red\n",
      "You Win!\n",
      "1020\n",
      "End of round. Pot: 1020\n",
      "\n",
      "\n",
      "Starting round. Pot: 1020, Current bet: 10\n",
      "0\n",
      "1\n",
      "It's black\n",
      "You lose!\n",
      "1010\n",
      "End of round. Pot: 1010\n",
      "\n",
      "\n",
      "Starting round. Pot: 1010, Current bet: 20\n",
      "0\n",
      "0\n",
      "It's black\n",
      "You Win!\n",
      "1030\n",
      "End of round. Pot: 1030\n",
      "\n",
      "\n",
      "Starting round. Pot: 1030, Current bet: 10\n",
      "1\n",
      "1\n",
      "Its's red\n",
      "You Win!\n",
      "1040\n",
      "End of round. Pot: 1040\n",
      "\n",
      "\n",
      "Starting round. Pot: 1040, Current bet: 10\n",
      "1\n",
      "1\n",
      "Its's red\n",
      "You Win!\n",
      "1050\n",
      "End of round. Pot: 1050\n",
      "\n",
      "\n",
      "Starting round. Pot: 1050, Current bet: 10\n",
      "1\n",
      "0\n",
      "Its's red\n",
      "You lose!\n",
      "1040\n",
      "End of round. Pot: 1040\n",
      "\n",
      "\n",
      "Starting round. Pot: 1040, Current bet: 20\n",
      "1\n",
      "0\n",
      "Its's red\n",
      "You lose!\n",
      "1020\n",
      "End of round. Pot: 1020\n",
      "\n",
      "\n",
      "Starting round. Pot: 1020, Current bet: 40\n",
      "1\n",
      "0\n",
      "Its's red\n",
      "You lose!\n",
      "980\n",
      "End of round. Pot: 980\n",
      "\n",
      "\n",
      "Starting round. Pot: 980, Current bet: 80\n",
      "1\n",
      "0\n",
      "Its's red\n",
      "You lose!\n",
      "900\n",
      "End of round. Pot: 900\n",
      "\n",
      "\n",
      "Starting round. Pot: 900, Current bet: 160\n",
      "1\n",
      "1\n",
      "Its's red\n",
      "You Win!\n",
      "1060\n",
      "End of round. Pot: 1060\n",
      "\n",
      "\n",
      "Starting round. Pot: 1060, Current bet: 10\n",
      "1\n",
      "1\n",
      "Its's red\n",
      "You Win!\n",
      "1070\n",
      "End of round. Pot: 1070\n",
      "\n",
      "\n",
      "Starting round. Pot: 1070, Current bet: 10\n",
      "0\n",
      "1\n",
      "It's black\n",
      "You lose!\n",
      "1060\n",
      "End of round. Pot: 1060\n",
      "\n",
      "\n",
      "Starting round. Pot: 1060, Current bet: 20\n",
      "1\n",
      "1\n",
      "Its's red\n",
      "You Win!\n",
      "1080\n",
      "End of round. Pot: 1080\n",
      "\n",
      "\n",
      "Starting round. Pot: 1080, Current bet: 10\n",
      "1\n",
      "0\n",
      "Its's red\n",
      "You lose!\n",
      "1070\n",
      "End of round. Pot: 1070\n",
      "\n",
      "\n",
      "Starting round. Pot: 1070, Current bet: 20\n",
      "1\n",
      "1\n",
      "Its's red\n",
      "You Win!\n",
      "1090\n",
      "End of round. Pot: 1090\n",
      "\n",
      "\n",
      "Starting round. Pot: 1090, Current bet: 10\n",
      "0\n",
      "1\n",
      "It's black\n",
      "You lose!\n",
      "1080\n",
      "End of round. Pot: 1080\n",
      "\n",
      "\n",
      "Starting round. Pot: 1080, Current bet: 20\n",
      "1\n",
      "1\n",
      "Its's red\n",
      "You Win!\n",
      "1100\n",
      "End of round. Pot: 1100\n",
      "\n",
      "\n",
      "Starting round. Pot: 1100, Current bet: 10\n",
      "1\n",
      "1\n",
      "Its's red\n",
      "You Win!\n",
      "1110\n",
      "End of round. Pot: 1110\n",
      "\n",
      "\n",
      "Starting round. Pot: 1110, Current bet: 10\n",
      "1\n",
      "0\n",
      "Its's red\n",
      "You lose!\n",
      "1100\n",
      "End of round. Pot: 1100\n",
      "\n",
      "\n",
      "Starting round. Pot: 1100, Current bet: 20\n",
      "0\n",
      "0\n",
      "It's black\n",
      "You Win!\n",
      "1120\n",
      "End of round. Pot: 1120\n",
      "\n",
      "\n",
      "Starting round. Pot: 1120, Current bet: 10\n",
      "1\n",
      "0\n",
      "Its's red\n",
      "You lose!\n",
      "1110\n",
      "End of round. Pot: 1110\n",
      "\n",
      "\n",
      "Starting round. Pot: 1110, Current bet: 20\n",
      "1\n",
      "0\n",
      "Its's red\n",
      "You lose!\n",
      "1090\n",
      "End of round. Pot: 1090\n",
      "\n",
      "\n",
      "Starting round. Pot: 1090, Current bet: 40\n",
      "1\n",
      "0\n",
      "Its's red\n",
      "You lose!\n",
      "1050\n",
      "End of round. Pot: 1050\n",
      "\n",
      "\n",
      "Starting round. Pot: 1050, Current bet: 80\n",
      "1\n",
      "0\n",
      "Its's red\n",
      "You lose!\n",
      "970\n",
      "End of round. Pot: 970\n",
      "\n",
      "\n",
      "Starting round. Pot: 970, Current bet: 160\n",
      "2\n",
      "1\n",
      "It's landed on 0\n",
      "You lose!\n",
      "810\n",
      "End of round. Pot: 810\n",
      "\n",
      "\n",
      "Starting round. Pot: 810, Current bet: 320\n",
      "0\n",
      "0\n",
      "It's black\n",
      "You Win!\n",
      "1130\n",
      "End of round. Pot: 1130\n",
      "\n",
      "\n",
      "Starting round. Pot: 1130, Current bet: 10\n",
      "0\n",
      "1\n",
      "It's black\n",
      "You lose!\n",
      "1120\n",
      "End of round. Pot: 1120\n",
      "\n",
      "\n",
      "Starting round. Pot: 1120, Current bet: 20\n",
      "1\n",
      "1\n",
      "Its's red\n",
      "You Win!\n",
      "1140\n",
      "End of round. Pot: 1140\n",
      "\n",
      "\n",
      "Starting round. Pot: 1140, Current bet: 10\n",
      "0\n",
      "0\n",
      "It's black\n",
      "You Win!\n",
      "1150\n",
      "End of round. Pot: 1150\n",
      "\n",
      "\n",
      "Starting round. Pot: 1150, Current bet: 10\n",
      "0\n",
      "0\n",
      "It's black\n",
      "You Win!\n",
      "1160\n",
      "End of round. Pot: 1160\n",
      "\n",
      "\n",
      "Starting round. Pot: 1160, Current bet: 10\n",
      "0\n",
      "1\n",
      "It's black\n",
      "You lose!\n",
      "1150\n",
      "End of round. Pot: 1150\n",
      "\n",
      "\n",
      "Starting round. Pot: 1150, Current bet: 20\n",
      "1\n",
      "0\n",
      "Its's red\n",
      "You lose!\n",
      "1130\n",
      "End of round. Pot: 1130\n",
      "\n",
      "\n",
      "Starting round. Pot: 1130, Current bet: 40\n",
      "1\n",
      "0\n",
      "Its's red\n",
      "You lose!\n",
      "1090\n",
      "End of round. Pot: 1090\n",
      "\n",
      "\n",
      "Starting round. Pot: 1090, Current bet: 80\n",
      "0\n",
      "1\n",
      "It's black\n",
      "You lose!\n",
      "1010\n",
      "End of round. Pot: 1010\n",
      "\n",
      "\n",
      "Starting round. Pot: 1010, Current bet: 160\n",
      "1\n",
      "1\n",
      "Its's red\n",
      "You Win!\n",
      "1170\n",
      "End of round. Pot: 1170\n",
      "\n",
      "\n",
      "Starting round. Pot: 1170, Current bet: 10\n",
      "0\n",
      "0\n",
      "It's black\n",
      "You Win!\n",
      "1180\n",
      "End of round. Pot: 1180\n",
      "\n",
      "\n",
      "Starting round. Pot: 1180, Current bet: 10\n",
      "0\n",
      "0\n",
      "It's black\n",
      "You Win!\n",
      "1190\n",
      "End of round. Pot: 1190\n",
      "\n",
      "\n",
      "Starting round. Pot: 1190, Current bet: 10\n",
      "0\n",
      "1\n",
      "It's black\n",
      "You lose!\n",
      "1180\n",
      "End of round. Pot: 1180\n",
      "\n",
      "\n",
      "Starting round. Pot: 1180, Current bet: 20\n",
      "0\n",
      "0\n",
      "It's black\n",
      "You Win!\n",
      "1200\n",
      "End of round. Pot: 1200\n",
      "\n",
      "\n",
      "Starting round. Pot: 1200, Current bet: 10\n",
      "1\n",
      "1\n",
      "Its's red\n",
      "You Win!\n",
      "1210\n",
      "End of round. Pot: 1210\n",
      "\n",
      "\n",
      "Starting round. Pot: 1210, Current bet: 10\n",
      "0\n",
      "0\n",
      "It's black\n",
      "You Win!\n",
      "1220\n",
      "End of round. Pot: 1220\n",
      "\n",
      "\n",
      "Starting round. Pot: 1220, Current bet: 10\n",
      "1\n",
      "0\n",
      "Its's red\n",
      "You lose!\n",
      "1210\n",
      "End of round. Pot: 1210\n",
      "\n",
      "\n",
      "Starting round. Pot: 1210, Current bet: 20\n",
      "0\n",
      "1\n",
      "It's black\n",
      "You lose!\n",
      "1190\n",
      "End of round. Pot: 1190\n",
      "\n",
      "\n",
      "Starting round. Pot: 1190, Current bet: 40\n",
      "0\n",
      "1\n",
      "It's black\n",
      "You lose!\n",
      "1150\n",
      "End of round. Pot: 1150\n",
      "\n",
      "\n",
      "Starting round. Pot: 1150, Current bet: 80\n",
      "0\n",
      "1\n",
      "It's black\n",
      "You lose!\n",
      "1070\n",
      "End of round. Pot: 1070\n",
      "\n",
      "\n",
      "Starting round. Pot: 1070, Current bet: 160\n",
      "0\n",
      "1\n",
      "It's black\n",
      "You lose!\n",
      "910\n",
      "End of round. Pot: 910\n",
      "\n",
      "\n",
      "Starting round. Pot: 910, Current bet: 320\n",
      "0\n",
      "0\n",
      "It's black\n",
      "You Win!\n",
      "1230\n",
      "End of round. Pot: 1230\n",
      "\n",
      "\n",
      "Starting round. Pot: 1230, Current bet: 10\n",
      "0\n",
      "0\n",
      "It's black\n",
      "You Win!\n",
      "1240\n",
      "End of round. Pot: 1240\n",
      "\n",
      "\n",
      "Starting round. Pot: 1240, Current bet: 10\n",
      "1\n",
      "1\n",
      "Its's red\n",
      "You Win!\n",
      "1250\n",
      "End of round. Pot: 1250\n",
      "\n",
      "\n",
      "Starting round. Pot: 1250, Current bet: 10\n",
      "1\n",
      "0\n",
      "Its's red\n",
      "You lose!\n",
      "1240\n",
      "End of round. Pot: 1240\n",
      "\n",
      "\n",
      "Starting round. Pot: 1240, Current bet: 20\n",
      "1\n",
      "0\n",
      "Its's red\n",
      "You lose!\n",
      "1220\n",
      "End of round. Pot: 1220\n",
      "\n",
      "\n",
      "Starting round. Pot: 1220, Current bet: 40\n",
      "0\n",
      "0\n",
      "It's black\n",
      "You Win!\n",
      "1260\n",
      "End of round. Pot: 1260\n",
      "\n",
      "\n",
      "Starting round. Pot: 1260, Current bet: 10\n",
      "1\n",
      "1\n",
      "Its's red\n",
      "You Win!\n",
      "1270\n",
      "End of round. Pot: 1270\n",
      "\n",
      "\n",
      "Starting round. Pot: 1270, Current bet: 10\n",
      "0\n",
      "0\n",
      "It's black\n",
      "You Win!\n",
      "1280\n",
      "End of round. Pot: 1280\n",
      "\n",
      "\n",
      "Starting round. Pot: 1280, Current bet: 10\n",
      "0\n",
      "1\n",
      "It's black\n",
      "You lose!\n",
      "1270\n",
      "End of round. Pot: 1270\n",
      "\n",
      "\n",
      "Starting round. Pot: 1270, Current bet: 20\n",
      "1\n",
      "1\n",
      "Its's red\n",
      "You Win!\n",
      "1290\n",
      "End of round. Pot: 1290\n",
      "\n",
      "\n",
      "Starting round. Pot: 1290, Current bet: 10\n",
      "1\n",
      "0\n",
      "Its's red\n",
      "You lose!\n",
      "1280\n",
      "End of round. Pot: 1280\n",
      "\n",
      "\n",
      "Starting round. Pot: 1280, Current bet: 20\n",
      "1\n",
      "1\n",
      "Its's red\n",
      "You Win!\n",
      "1300\n",
      "End of round. Pot: 1300\n",
      "\n",
      "\n",
      "Starting round. Pot: 1300, Current bet: 10\n",
      "1\n",
      "1\n",
      "Its's red\n",
      "You Win!\n",
      "1310\n",
      "End of round. Pot: 1310\n",
      "\n",
      "\n",
      "Starting round. Pot: 1310, Current bet: 10\n",
      "1\n",
      "0\n",
      "Its's red\n",
      "You lose!\n",
      "1300\n",
      "End of round. Pot: 1300\n",
      "\n",
      "\n",
      "Starting round. Pot: 1300, Current bet: 20\n",
      "2\n",
      "0\n",
      "It's landed on 0\n",
      "You lose!\n",
      "1280\n",
      "End of round. Pot: 1280\n",
      "\n",
      "\n",
      "Starting round. Pot: 1280, Current bet: 40\n",
      "0\n",
      "0\n",
      "It's black\n",
      "You Win!\n",
      "1320\n",
      "End of round. Pot: 1320\n",
      "\n",
      "\n",
      "Starting round. Pot: 1320, Current bet: 10\n",
      "1\n",
      "0\n",
      "Its's red\n",
      "You lose!\n",
      "1310\n",
      "End of round. Pot: 1310\n",
      "\n",
      "\n",
      "Starting round. Pot: 1310, Current bet: 20\n",
      "1\n",
      "0\n",
      "Its's red\n",
      "You lose!\n",
      "1290\n",
      "End of round. Pot: 1290\n",
      "\n",
      "\n",
      "Starting round. Pot: 1290, Current bet: 40\n",
      "0\n",
      "0\n",
      "It's black\n",
      "You Win!\n",
      "1330\n",
      "End of round. Pot: 1330\n",
      "\n",
      "\n",
      "Starting round. Pot: 1330, Current bet: 10\n",
      "1\n",
      "1\n",
      "Its's red\n",
      "You Win!\n",
      "1340\n",
      "End of round. Pot: 1340\n",
      "\n",
      "\n",
      "Starting round. Pot: 1340, Current bet: 10\n",
      "1\n",
      "0\n",
      "Its's red\n",
      "You lose!\n",
      "1330\n",
      "End of round. Pot: 1330\n",
      "\n",
      "\n",
      "Starting round. Pot: 1330, Current bet: 20\n",
      "0\n",
      "1\n",
      "It's black\n",
      "You lose!\n",
      "1310\n",
      "End of round. Pot: 1310\n",
      "\n",
      "\n",
      "Starting round. Pot: 1310, Current bet: 40\n",
      "0\n",
      "0\n",
      "It's black\n",
      "You Win!\n",
      "1350\n",
      "End of round. Pot: 1350\n",
      "\n",
      "\n",
      "Starting round. Pot: 1350, Current bet: 10\n",
      "0\n",
      "0\n",
      "It's black\n",
      "You Win!\n",
      "1360\n",
      "End of round. Pot: 1360\n",
      "\n",
      "\n",
      "Starting round. Pot: 1360, Current bet: 10\n",
      "1\n",
      "0\n",
      "Its's red\n",
      "You lose!\n",
      "1350\n",
      "End of round. Pot: 1350\n",
      "\n",
      "\n",
      "Starting round. Pot: 1350, Current bet: 20\n",
      "0\n",
      "0\n",
      "It's black\n",
      "You Win!\n",
      "1370\n",
      "End of round. Pot: 1370\n",
      "\n",
      "\n",
      "Starting round. Pot: 1370, Current bet: 10\n",
      "1\n",
      "1\n",
      "Its's red\n",
      "You Win!\n",
      "1380\n",
      "End of round. Pot: 1380\n",
      "\n",
      "\n",
      "Starting round. Pot: 1380, Current bet: 10\n",
      "0\n",
      "0\n",
      "It's black\n",
      "You Win!\n",
      "1390\n",
      "End of round. Pot: 1390\n",
      "\n",
      "\n",
      "Starting round. Pot: 1390, Current bet: 10\n",
      "1\n",
      "0\n",
      "Its's red\n",
      "You lose!\n",
      "1380\n",
      "End of round. Pot: 1380\n",
      "\n",
      "\n",
      "Starting round. Pot: 1380, Current bet: 20\n",
      "1\n",
      "1\n",
      "Its's red\n",
      "You Win!\n",
      "1400\n",
      "End of round. Pot: 1400\n",
      "\n",
      "\n",
      "Starting round. Pot: 1400, Current bet: 10\n",
      "1\n",
      "1\n",
      "Its's red\n",
      "You Win!\n",
      "1410\n",
      "End of round. Pot: 1410\n",
      "\n",
      "\n",
      "Starting round. Pot: 1410, Current bet: 10\n",
      "1\n",
      "0\n",
      "Its's red\n",
      "You lose!\n",
      "1400\n",
      "End of round. Pot: 1400\n",
      "\n",
      "\n",
      "Starting round. Pot: 1400, Current bet: 20\n",
      "1\n",
      "1\n",
      "Its's red\n",
      "You Win!\n",
      "1420\n",
      "End of round. Pot: 1420\n",
      "\n",
      "\n",
      "Starting round. Pot: 1420, Current bet: 10\n",
      "1\n",
      "0\n",
      "Its's red\n",
      "You lose!\n",
      "1410\n",
      "End of round. Pot: 1410\n",
      "\n",
      "\n",
      "Starting round. Pot: 1410, Current bet: 20\n",
      "0\n",
      "0\n",
      "It's black\n",
      "You Win!\n",
      "1430\n",
      "End of round. Pot: 1430\n",
      "\n",
      "\n",
      "Starting round. Pot: 1430, Current bet: 10\n",
      "0\n",
      "0\n",
      "It's black\n",
      "You Win!\n",
      "1440\n",
      "End of round. Pot: 1440\n",
      "\n",
      "\n",
      "Starting round. Pot: 1440, Current bet: 10\n",
      "1\n",
      "0\n",
      "Its's red\n",
      "You lose!\n",
      "1430\n",
      "End of round. Pot: 1430\n",
      "\n",
      "\n",
      "Starting round. Pot: 1430, Current bet: 20\n",
      "0\n",
      "0\n",
      "It's black\n",
      "You Win!\n",
      "1450\n",
      "End of round. Pot: 1450\n",
      "\n",
      "\n",
      "Starting round. Pot: 1450, Current bet: 10\n",
      "1\n",
      "1\n",
      "Its's red\n",
      "You Win!\n",
      "1460\n",
      "End of round. Pot: 1460\n",
      "\n",
      "\n",
      "Starting round. Pot: 1460, Current bet: 10\n",
      "1\n",
      "1\n",
      "Its's red\n",
      "You Win!\n",
      "1470\n",
      "End of round. Pot: 1470\n",
      "\n",
      "\n",
      "Starting round. Pot: 1470, Current bet: 10\n",
      "0\n",
      "0\n",
      "It's black\n",
      "You Win!\n",
      "1480\n",
      "End of round. Pot: 1480\n",
      "\n",
      "\n",
      "Starting round. Pot: 1480, Current bet: 10\n",
      "0\n",
      "0\n",
      "It's black\n",
      "You Win!\n",
      "1490\n",
      "End of round. Pot: 1490\n",
      "\n",
      "\n",
      "Starting round. Pot: 1490, Current bet: 10\n",
      "1\n",
      "1\n",
      "Its's red\n",
      "You Win!\n",
      "1500\n",
      "End of round. Pot: 1500\n",
      "\n",
      "\n",
      "Starting round. Pot: 1500, Current bet: 10\n",
      "1\n",
      "0\n",
      "Its's red\n",
      "You lose!\n",
      "1490\n",
      "End of round. Pot: 1490\n",
      "\n",
      "\n",
      "Starting round. Pot: 1490, Current bet: 20\n",
      "1\n",
      "0\n",
      "Its's red\n",
      "You lose!\n",
      "1470\n",
      "End of round. Pot: 1470\n",
      "\n",
      "\n",
      "Starting round. Pot: 1470, Current bet: 40\n",
      "0\n",
      "0\n",
      "It's black\n",
      "You Win!\n",
      "1510\n",
      "End of round. Pot: 1510\n",
      "\n",
      "\n",
      "Starting round. Pot: 1510, Current bet: 10\n",
      "1\n",
      "0\n",
      "Its's red\n",
      "You lose!\n",
      "1500\n",
      "End of round. Pot: 1500\n",
      "\n",
      "\n",
      "Starting round. Pot: 1500, Current bet: 20\n",
      "0\n",
      "1\n",
      "It's black\n",
      "You lose!\n",
      "1480\n",
      "End of round. Pot: 1480\n",
      "\n",
      "\n",
      "Starting round. Pot: 1480, Current bet: 40\n",
      "0\n",
      "1\n",
      "It's black\n",
      "You lose!\n",
      "1440\n",
      "End of round. Pot: 1440\n",
      "\n",
      "\n",
      "Starting round. Pot: 1440, Current bet: 80\n",
      "0\n",
      "0\n",
      "It's black\n",
      "You Win!\n",
      "1520\n",
      "End of round. Pot: 1520\n",
      "\n",
      "\n",
      "Starting round. Pot: 1520, Current bet: 10\n",
      "1\n",
      "0\n",
      "Its's red\n",
      "You lose!\n",
      "1510\n",
      "End of round. Pot: 1510\n",
      "\n",
      "\n",
      "Starting round. Pot: 1510, Current bet: 20\n",
      "1\n",
      "1\n",
      "Its's red\n",
      "You Win!\n",
      "1530\n",
      "End of round. Pot: 1530\n",
      "\n",
      "\n",
      "Starting round. Pot: 1530, Current bet: 10\n",
      "0\n",
      "1\n",
      "It's black\n",
      "You lose!\n",
      "1520\n",
      "End of round. Pot: 1520\n",
      "\n",
      "\n",
      "Starting round. Pot: 1520, Current bet: 20\n",
      "1\n",
      "1\n",
      "Its's red\n",
      "You Win!\n",
      "1540\n",
      "End of round. Pot: 1540\n",
      "\n",
      "\n",
      "Starting round. Pot: 1540, Current bet: 10\n",
      "0\n",
      "0\n",
      "It's black\n",
      "You Win!\n",
      "1550\n",
      "End of round. Pot: 1550\n",
      "\n",
      "\n",
      "Starting round. Pot: 1550, Current bet: 10\n",
      "0\n",
      "1\n",
      "It's black\n",
      "You lose!\n",
      "1540\n",
      "End of round. Pot: 1540\n",
      "\n",
      "\n",
      "Starting round. Pot: 1540, Current bet: 20\n",
      "1\n",
      "0\n",
      "Its's red\n",
      "You lose!\n",
      "1520\n",
      "End of round. Pot: 1520\n",
      "\n",
      "\n",
      "Starting round. Pot: 1520, Current bet: 40\n",
      "1\n",
      "0\n",
      "Its's red\n",
      "You lose!\n",
      "1480\n",
      "End of round. Pot: 1480\n",
      "\n",
      "\n",
      "Starting round. Pot: 1480, Current bet: 80\n",
      "1\n",
      "1\n",
      "Its's red\n",
      "You Win!\n",
      "1560\n",
      "End of round. Pot: 1560\n",
      "\n",
      "\n",
      "Starting round. Pot: 1560, Current bet: 10\n",
      "0\n",
      "0\n",
      "It's black\n",
      "You Win!\n",
      "1570\n",
      "End of round. Pot: 1570\n",
      "\n",
      "\n",
      "Starting round. Pot: 1570, Current bet: 10\n",
      "0\n",
      "0\n",
      "It's black\n",
      "You Win!\n",
      "1580\n",
      "End of round. Pot: 1580\n",
      "\n",
      "\n",
      "Starting round. Pot: 1580, Current bet: 10\n",
      "1\n",
      "0\n",
      "Its's red\n",
      "You lose!\n",
      "1570\n",
      "End of round. Pot: 1570\n",
      "\n",
      "\n",
      "Starting round. Pot: 1570, Current bet: 20\n",
      "0\n",
      "0\n",
      "It's black\n",
      "You Win!\n",
      "1590\n",
      "End of round. Pot: 1590\n",
      "\n",
      "\n",
      "Starting round. Pot: 1590, Current bet: 10\n",
      "1\n",
      "0\n",
      "Its's red\n",
      "You lose!\n",
      "1580\n",
      "End of round. Pot: 1580\n",
      "\n",
      "\n",
      "Starting round. Pot: 1580, Current bet: 20\n",
      "0\n",
      "0\n",
      "It's black\n",
      "You Win!\n",
      "1600\n",
      "End of round. Pot: 1600\n",
      "\n",
      "\n",
      "Starting round. Pot: 1600, Current bet: 10\n",
      "0\n",
      "1\n",
      "It's black\n",
      "You lose!\n",
      "1590\n",
      "End of round. Pot: 1590\n",
      "\n",
      "\n",
      "Starting round. Pot: 1590, Current bet: 20\n",
      "0\n",
      "0\n",
      "It's black\n",
      "You Win!\n",
      "1610\n",
      "End of round. Pot: 1610\n",
      "\n",
      "\n",
      "Starting round. Pot: 1610, Current bet: 10\n",
      "1\n",
      "1\n",
      "Its's red\n",
      "You Win!\n",
      "1620\n",
      "End of round. Pot: 1620\n",
      "\n",
      "\n",
      "Starting round. Pot: 1620, Current bet: 10\n",
      "1\n",
      "0\n",
      "Its's red\n",
      "You lose!\n",
      "1610\n",
      "End of round. Pot: 1610\n",
      "\n",
      "\n",
      "Starting round. Pot: 1610, Current bet: 20\n",
      "0\n",
      "1\n",
      "It's black\n",
      "You lose!\n",
      "1590\n",
      "End of round. Pot: 1590\n",
      "\n",
      "\n",
      "Starting round. Pot: 1590, Current bet: 40\n",
      "0\n",
      "1\n",
      "It's black\n",
      "You lose!\n",
      "1550\n",
      "End of round. Pot: 1550\n",
      "\n",
      "\n",
      "Starting round. Pot: 1550, Current bet: 80\n",
      "1\n",
      "0\n",
      "Its's red\n",
      "You lose!\n",
      "1470\n",
      "End of round. Pot: 1470\n",
      "\n",
      "\n",
      "Starting round. Pot: 1470, Current bet: 160\n",
      "0\n",
      "1\n",
      "It's black\n",
      "You lose!\n",
      "1310\n",
      "End of round. Pot: 1310\n",
      "\n",
      "\n",
      "Starting round. Pot: 1310, Current bet: 320\n",
      "1\n",
      "0\n",
      "Its's red\n",
      "You lose!\n",
      "990\n",
      "End of round. Pot: 990\n",
      "\n",
      "\n",
      "Starting round. Pot: 990, Current bet: 640\n",
      "0\n",
      "0\n",
      "It's black\n",
      "You Win!\n",
      "1630\n",
      "End of round. Pot: 1630\n",
      "\n",
      "\n",
      "Starting round. Pot: 1630, Current bet: 10\n",
      "0\n",
      "0\n",
      "It's black\n",
      "You Win!\n",
      "1640\n",
      "End of round. Pot: 1640\n",
      "\n",
      "\n",
      "Starting round. Pot: 1640, Current bet: 10\n",
      "1\n",
      "0\n",
      "Its's red\n",
      "You lose!\n",
      "1630\n",
      "End of round. Pot: 1630\n",
      "\n",
      "\n",
      "Starting round. Pot: 1630, Current bet: 20\n",
      "0\n",
      "0\n",
      "It's black\n",
      "You Win!\n",
      "1650\n",
      "End of round. Pot: 1650\n",
      "\n",
      "\n",
      "Starting round. Pot: 1650, Current bet: 10\n",
      "0\n",
      "1\n",
      "It's black\n",
      "You lose!\n",
      "1640\n",
      "End of round. Pot: 1640\n",
      "\n",
      "\n",
      "Starting round. Pot: 1640, Current bet: 20\n",
      "0\n",
      "1\n",
      "It's black\n",
      "You lose!\n",
      "1620\n",
      "End of round. Pot: 1620\n",
      "\n",
      "\n",
      "Starting round. Pot: 1620, Current bet: 40\n",
      "1\n",
      "1\n",
      "Its's red\n",
      "You Win!\n",
      "1660\n",
      "End of round. Pot: 1660\n",
      "\n",
      "\n",
      "Starting round. Pot: 1660, Current bet: 10\n",
      "1\n",
      "0\n",
      "Its's red\n",
      "You lose!\n",
      "1650\n",
      "End of round. Pot: 1650\n",
      "\n",
      "\n",
      "Starting round. Pot: 1650, Current bet: 20\n",
      "1\n",
      "1\n",
      "Its's red\n",
      "You Win!\n",
      "1670\n",
      "End of round. Pot: 1670\n",
      "\n",
      "\n",
      "Starting round. Pot: 1670, Current bet: 10\n",
      "1\n",
      "0\n",
      "Its's red\n",
      "You lose!\n",
      "1660\n",
      "End of round. Pot: 1660\n",
      "\n",
      "\n",
      "Starting round. Pot: 1660, Current bet: 20\n",
      "0\n",
      "0\n",
      "It's black\n",
      "You Win!\n",
      "1680\n",
      "End of round. Pot: 1680\n",
      "\n",
      "\n",
      "Starting round. Pot: 1680, Current bet: 10\n",
      "0\n",
      "0\n",
      "It's black\n",
      "You Win!\n",
      "1690\n",
      "End of round. Pot: 1690\n",
      "\n",
      "\n",
      "Starting round. Pot: 1690, Current bet: 10\n",
      "0\n",
      "0\n",
      "It's black\n",
      "You Win!\n",
      "1700\n",
      "End of round. Pot: 1700\n",
      "\n",
      "\n",
      "Starting round. Pot: 1700, Current bet: 10\n",
      "1\n",
      "1\n",
      "Its's red\n",
      "You Win!\n",
      "1710\n",
      "End of round. Pot: 1710\n",
      "\n",
      "\n",
      "Starting round. Pot: 1710, Current bet: 10\n",
      "1\n",
      "1\n",
      "Its's red\n",
      "You Win!\n",
      "1720\n",
      "End of round. Pot: 1720\n",
      "\n",
      "\n",
      "Starting round. Pot: 1720, Current bet: 10\n",
      "1\n",
      "1\n",
      "Its's red\n",
      "You Win!\n",
      "1730\n",
      "End of round. Pot: 1730\n",
      "\n",
      "\n",
      "Starting round. Pot: 1730, Current bet: 10\n",
      "0\n",
      "1\n",
      "It's black\n",
      "You lose!\n",
      "1720\n",
      "End of round. Pot: 1720\n",
      "\n",
      "\n",
      "Starting round. Pot: 1720, Current bet: 20\n",
      "0\n",
      "1\n",
      "It's black\n",
      "You lose!\n",
      "1700\n",
      "End of round. Pot: 1700\n",
      "\n",
      "\n",
      "Starting round. Pot: 1700, Current bet: 40\n",
      "0\n",
      "1\n",
      "It's black\n",
      "You lose!\n",
      "1660\n",
      "End of round. Pot: 1660\n",
      "\n",
      "\n",
      "Starting round. Pot: 1660, Current bet: 80\n",
      "0\n",
      "1\n",
      "It's black\n",
      "You lose!\n",
      "1580\n",
      "End of round. Pot: 1580\n",
      "\n",
      "\n",
      "Starting round. Pot: 1580, Current bet: 160\n",
      "0\n",
      "1\n",
      "It's black\n",
      "You lose!\n",
      "1420\n",
      "End of round. Pot: 1420\n",
      "\n",
      "\n",
      "Starting round. Pot: 1420, Current bet: 320\n",
      "0\n",
      "0\n",
      "It's black\n",
      "You Win!\n",
      "1740\n",
      "End of round. Pot: 1740\n",
      "\n",
      "\n",
      "Starting round. Pot: 1740, Current bet: 10\n",
      "1\n",
      "0\n",
      "Its's red\n",
      "You lose!\n",
      "1730\n",
      "End of round. Pot: 1730\n",
      "\n",
      "\n",
      "Starting round. Pot: 1730, Current bet: 20\n",
      "0\n",
      "1\n",
      "It's black\n",
      "You lose!\n",
      "1710\n",
      "End of round. Pot: 1710\n",
      "\n",
      "\n",
      "Starting round. Pot: 1710, Current bet: 40\n",
      "2\n",
      "0\n",
      "It's landed on 0\n",
      "You lose!\n",
      "1670\n",
      "End of round. Pot: 1670\n",
      "\n",
      "\n",
      "Starting round. Pot: 1670, Current bet: 80\n",
      "0\n",
      "0\n",
      "It's black\n",
      "You Win!\n",
      "1750\n",
      "End of round. Pot: 1750\n",
      "\n",
      "\n",
      "Starting round. Pot: 1750, Current bet: 10\n",
      "0\n",
      "1\n",
      "It's black\n",
      "You lose!\n",
      "1740\n",
      "End of round. Pot: 1740\n",
      "\n",
      "\n",
      "Starting round. Pot: 1740, Current bet: 20\n",
      "1\n",
      "0\n",
      "Its's red\n",
      "You lose!\n",
      "1720\n",
      "End of round. Pot: 1720\n",
      "\n",
      "\n",
      "Starting round. Pot: 1720, Current bet: 40\n",
      "0\n",
      "1\n",
      "It's black\n",
      "You lose!\n",
      "1680\n",
      "End of round. Pot: 1680\n",
      "\n",
      "\n",
      "Starting round. Pot: 1680, Current bet: 80\n",
      "1\n",
      "1\n",
      "Its's red\n",
      "You Win!\n",
      "1760\n",
      "End of round. Pot: 1760\n",
      "\n",
      "\n",
      "Starting round. Pot: 1760, Current bet: 10\n",
      "1\n",
      "0\n",
      "Its's red\n",
      "You lose!\n",
      "1750\n",
      "End of round. Pot: 1750\n",
      "\n",
      "\n",
      "Starting round. Pot: 1750, Current bet: 20\n",
      "1\n",
      "0\n",
      "Its's red\n",
      "You lose!\n",
      "1730\n",
      "End of round. Pot: 1730\n",
      "\n",
      "\n",
      "Starting round. Pot: 1730, Current bet: 40\n",
      "1\n",
      "0\n",
      "Its's red\n",
      "You lose!\n",
      "1690\n",
      "End of round. Pot: 1690\n",
      "\n",
      "\n",
      "Starting round. Pot: 1690, Current bet: 80\n",
      "1\n",
      "0\n",
      "Its's red\n",
      "You lose!\n",
      "1610\n",
      "End of round. Pot: 1610\n",
      "\n",
      "\n",
      "Starting round. Pot: 1610, Current bet: 160\n",
      "0\n",
      "1\n",
      "It's black\n",
      "You lose!\n",
      "1450\n",
      "End of round. Pot: 1450\n",
      "\n",
      "\n",
      "Starting round. Pot: 1450, Current bet: 320\n",
      "0\n",
      "1\n",
      "It's black\n",
      "You lose!\n",
      "1130\n",
      "End of round. Pot: 1130\n",
      "\n",
      "\n",
      "Starting round. Pot: 1130, Current bet: 640\n",
      "1\n",
      "1\n",
      "Its's red\n",
      "You Win!\n",
      "1770\n",
      "End of round. Pot: 1770\n",
      "\n",
      "\n",
      "Starting round. Pot: 1770, Current bet: 10\n",
      "1\n",
      "1\n",
      "Its's red\n",
      "You Win!\n",
      "1780\n",
      "End of round. Pot: 1780\n",
      "\n",
      "\n",
      "Starting round. Pot: 1780, Current bet: 10\n",
      "2\n",
      "1\n",
      "It's landed on 0\n",
      "You lose!\n",
      "1770\n",
      "End of round. Pot: 1770\n",
      "\n",
      "\n",
      "Starting round. Pot: 1770, Current bet: 20\n",
      "1\n",
      "1\n",
      "Its's red\n",
      "You Win!\n",
      "1790\n",
      "End of round. Pot: 1790\n",
      "\n",
      "\n",
      "Starting round. Pot: 1790, Current bet: 10\n",
      "0\n",
      "1\n",
      "It's black\n",
      "You lose!\n",
      "1780\n",
      "End of round. Pot: 1780\n",
      "\n",
      "\n",
      "Starting round. Pot: 1780, Current bet: 20\n",
      "1\n",
      "1\n",
      "Its's red\n",
      "You Win!\n",
      "1800\n",
      "End of round. Pot: 1800\n",
      "\n",
      "\n",
      "Starting round. Pot: 1800, Current bet: 10\n",
      "0\n",
      "0\n",
      "It's black\n",
      "You Win!\n",
      "1810\n",
      "End of round. Pot: 1810\n",
      "\n",
      "\n",
      "Starting round. Pot: 1810, Current bet: 10\n",
      "1\n",
      "0\n",
      "Its's red\n",
      "You lose!\n",
      "1800\n",
      "End of round. Pot: 1800\n",
      "\n",
      "\n",
      "Starting round. Pot: 1800, Current bet: 20\n",
      "0\n",
      "0\n",
      "It's black\n",
      "You Win!\n",
      "1820\n",
      "End of round. Pot: 1820\n",
      "\n",
      "\n",
      "Starting round. Pot: 1820, Current bet: 10\n",
      "1\n",
      "0\n",
      "Its's red\n",
      "You lose!\n",
      "1810\n",
      "End of round. Pot: 1810\n",
      "\n",
      "\n",
      "Starting round. Pot: 1810, Current bet: 20\n",
      "1\n",
      "0\n",
      "Its's red\n",
      "You lose!\n",
      "1790\n",
      "End of round. Pot: 1790\n",
      "\n",
      "\n",
      "Starting round. Pot: 1790, Current bet: 40\n",
      "1\n",
      "0\n",
      "Its's red\n",
      "You lose!\n",
      "1750\n",
      "End of round. Pot: 1750\n",
      "\n",
      "\n",
      "Starting round. Pot: 1750, Current bet: 80\n",
      "1\n",
      "0\n",
      "Its's red\n",
      "You lose!\n",
      "1670\n",
      "End of round. Pot: 1670\n",
      "\n",
      "\n",
      "Starting round. Pot: 1670, Current bet: 160\n",
      "0\n",
      "0\n",
      "It's black\n",
      "You Win!\n",
      "1830\n",
      "End of round. Pot: 1830\n",
      "\n",
      "\n",
      "Starting round. Pot: 1830, Current bet: 10\n",
      "0\n",
      "1\n",
      "It's black\n",
      "You lose!\n",
      "1820\n",
      "End of round. Pot: 1820\n",
      "\n",
      "\n",
      "Starting round. Pot: 1820, Current bet: 20\n",
      "1\n",
      "1\n",
      "Its's red\n",
      "You Win!\n",
      "1840\n",
      "End of round. Pot: 1840\n",
      "\n",
      "\n",
      "Starting round. Pot: 1840, Current bet: 10\n",
      "0\n",
      "1\n",
      "It's black\n",
      "You lose!\n",
      "1830\n",
      "End of round. Pot: 1830\n",
      "\n",
      "\n",
      "Starting round. Pot: 1830, Current bet: 20\n",
      "1\n",
      "0\n",
      "Its's red\n",
      "You lose!\n",
      "1810\n",
      "End of round. Pot: 1810\n",
      "\n",
      "\n",
      "Starting round. Pot: 1810, Current bet: 40\n",
      "0\n",
      "1\n",
      "It's black\n",
      "You lose!\n",
      "1770\n",
      "End of round. Pot: 1770\n",
      "\n",
      "\n",
      "Starting round. Pot: 1770, Current bet: 80\n",
      "0\n",
      "1\n",
      "It's black\n",
      "You lose!\n",
      "1690\n",
      "End of round. Pot: 1690\n",
      "\n",
      "\n",
      "Starting round. Pot: 1690, Current bet: 160\n",
      "0\n",
      "0\n",
      "It's black\n",
      "You Win!\n",
      "1850\n",
      "End of round. Pot: 1850\n",
      "\n",
      "\n",
      "Starting round. Pot: 1850, Current bet: 10\n",
      "0\n",
      "1\n",
      "It's black\n",
      "You lose!\n",
      "1840\n",
      "End of round. Pot: 1840\n",
      "\n",
      "\n",
      "Starting round. Pot: 1840, Current bet: 20\n",
      "0\n",
      "1\n",
      "It's black\n",
      "You lose!\n",
      "1820\n",
      "End of round. Pot: 1820\n",
      "\n",
      "\n",
      "Starting round. Pot: 1820, Current bet: 40\n",
      "1\n",
      "0\n",
      "Its's red\n",
      "You lose!\n",
      "1780\n",
      "End of round. Pot: 1780\n",
      "\n",
      "\n",
      "Starting round. Pot: 1780, Current bet: 80\n",
      "1\n",
      "1\n",
      "Its's red\n",
      "You Win!\n",
      "1860\n",
      "End of round. Pot: 1860\n",
      "\n",
      "\n",
      "Starting round. Pot: 1860, Current bet: 10\n",
      "1\n",
      "1\n",
      "Its's red\n",
      "You Win!\n",
      "1870\n",
      "End of round. Pot: 1870\n",
      "\n",
      "\n",
      "Starting round. Pot: 1870, Current bet: 10\n",
      "0\n",
      "1\n",
      "It's black\n",
      "You lose!\n",
      "1860\n",
      "End of round. Pot: 1860\n",
      "\n",
      "\n",
      "Starting round. Pot: 1860, Current bet: 20\n",
      "2\n",
      "1\n",
      "It's landed on 0\n",
      "You lose!\n",
      "1840\n",
      "End of round. Pot: 1840\n",
      "\n",
      "\n",
      "Starting round. Pot: 1840, Current bet: 40\n",
      "1\n",
      "1\n",
      "Its's red\n",
      "You Win!\n",
      "1880\n",
      "End of round. Pot: 1880\n",
      "\n",
      "\n",
      "Starting round. Pot: 1880, Current bet: 10\n",
      "0\n",
      "1\n",
      "It's black\n",
      "You lose!\n",
      "1870\n",
      "End of round. Pot: 1870\n",
      "\n",
      "\n",
      "Starting round. Pot: 1870, Current bet: 20\n",
      "1\n",
      "1\n",
      "Its's red\n",
      "You Win!\n",
      "1890\n",
      "End of round. Pot: 1890\n",
      "\n",
      "\n",
      "Starting round. Pot: 1890, Current bet: 10\n",
      "1\n",
      "0\n",
      "Its's red\n",
      "You lose!\n",
      "1880\n",
      "End of round. Pot: 1880\n",
      "\n",
      "\n",
      "Starting round. Pot: 1880, Current bet: 20\n",
      "0\n",
      "1\n",
      "It's black\n",
      "You lose!\n",
      "1860\n",
      "End of round. Pot: 1860\n",
      "\n",
      "\n",
      "Starting round. Pot: 1860, Current bet: 40\n",
      "0\n",
      "0\n",
      "It's black\n",
      "You Win!\n",
      "1900\n",
      "End of round. Pot: 1900\n",
      "\n",
      "\n",
      "Starting round. Pot: 1900, Current bet: 10\n",
      "0\n",
      "0\n",
      "It's black\n",
      "You Win!\n",
      "1910\n",
      "End of round. Pot: 1910\n",
      "\n",
      "\n",
      "Starting round. Pot: 1910, Current bet: 10\n",
      "1\n",
      "0\n",
      "Its's red\n",
      "You lose!\n",
      "1900\n",
      "End of round. Pot: 1900\n",
      "\n",
      "\n",
      "Starting round. Pot: 1900, Current bet: 20\n",
      "1\n",
      "1\n",
      "Its's red\n",
      "You Win!\n",
      "1920\n",
      "End of round. Pot: 1920\n",
      "\n",
      "\n",
      "Starting round. Pot: 1920, Current bet: 10\n"
     ]
    },
    {
     "name": "stdout",
     "output_type": "stream",
     "text": [
      "1\n",
      "1\n",
      "Its's red\n",
      "You Win!\n",
      "1930\n",
      "End of round. Pot: 1930\n",
      "\n",
      "\n",
      "Starting round. Pot: 1930, Current bet: 10\n",
      "0\n",
      "0\n",
      "It's black\n",
      "You Win!\n",
      "1940\n",
      "End of round. Pot: 1940\n",
      "\n",
      "\n",
      "Starting round. Pot: 1940, Current bet: 10\n",
      "1\n",
      "1\n",
      "Its's red\n",
      "You Win!\n",
      "1950\n",
      "End of round. Pot: 1950\n",
      "\n",
      "\n",
      "Starting round. Pot: 1950, Current bet: 10\n",
      "1\n",
      "0\n",
      "Its's red\n",
      "You lose!\n",
      "1940\n",
      "End of round. Pot: 1940\n",
      "\n",
      "\n",
      "Starting round. Pot: 1940, Current bet: 20\n",
      "0\n",
      "1\n",
      "It's black\n",
      "You lose!\n",
      "1920\n",
      "End of round. Pot: 1920\n",
      "\n",
      "\n",
      "Starting round. Pot: 1920, Current bet: 40\n",
      "1\n",
      "0\n",
      "Its's red\n",
      "You lose!\n",
      "1880\n",
      "End of round. Pot: 1880\n",
      "\n",
      "\n",
      "Starting round. Pot: 1880, Current bet: 80\n",
      "0\n",
      "1\n",
      "It's black\n",
      "You lose!\n",
      "1800\n",
      "End of round. Pot: 1800\n",
      "\n",
      "\n",
      "Starting round. Pot: 1800, Current bet: 160\n",
      "1\n",
      "0\n",
      "Its's red\n",
      "You lose!\n",
      "1640\n",
      "End of round. Pot: 1640\n",
      "\n",
      "\n",
      "Starting round. Pot: 1640, Current bet: 320\n",
      "1\n",
      "1\n",
      "Its's red\n",
      "You Win!\n",
      "1960\n",
      "End of round. Pot: 1960\n",
      "\n",
      "\n",
      "Starting round. Pot: 1960, Current bet: 10\n",
      "1\n",
      "1\n",
      "Its's red\n",
      "You Win!\n",
      "1970\n",
      "End of round. Pot: 1970\n",
      "\n",
      "\n",
      "Starting round. Pot: 1970, Current bet: 10\n",
      "1\n",
      "1\n",
      "Its's red\n",
      "You Win!\n",
      "1980\n",
      "End of round. Pot: 1980\n",
      "\n",
      "\n",
      "Starting round. Pot: 1980, Current bet: 10\n",
      "0\n",
      "1\n",
      "It's black\n",
      "You lose!\n",
      "1970\n",
      "End of round. Pot: 1970\n",
      "\n",
      "\n",
      "Starting round. Pot: 1970, Current bet: 20\n",
      "1\n",
      "1\n",
      "Its's red\n",
      "You Win!\n",
      "1990\n",
      "End of round. Pot: 1990\n",
      "\n",
      "\n",
      "Starting round. Pot: 1990, Current bet: 10\n",
      "1\n",
      "0\n",
      "Its's red\n",
      "You lose!\n",
      "1980\n",
      "End of round. Pot: 1980\n",
      "\n",
      "\n",
      "Starting round. Pot: 1980, Current bet: 20\n",
      "0\n",
      "0\n",
      "It's black\n",
      "You Win!\n",
      "2000\n",
      "End of round. Pot: 2000\n",
      "\n",
      "You've reached your target! You win!\n"
     ]
    }
   ],
   "source": [
    "  # Probabilities for array1, array2, array3\n",
    "\n",
    "def roll():\n",
    "    red = numpy.ones(18)\n",
    "    black = numpy.zeros(18)\n",
    "    green = numpy.array([5])\n",
    "    list_of_arrays = [black, red, green]\n",
    "    probabilities = [18/37, 18/37, 1/37]\n",
    "    chosen_array_index = numpy.random.choice(len(list_of_arrays), size=1, p=probabilities)[0]\n",
    "    print(chosen_array_index)\n",
    "    bet_choice = numpy.random.choice([0, 1], size = 1, p = [0.5, 0.5])[0]\n",
    "    print(bet_choice)\n",
    "    \n",
    "    if chosen_array_index == 1:\n",
    "        print(\"Its's red\")\n",
    "        landed_on = 1\n",
    "    elif chosen_array_index == 0:\n",
    "        print(\"It's black\")\n",
    "        landed_on = 0\n",
    "    else:\n",
    "        print(\"It's landed on 0\")\n",
    "        landed_on = 2\n",
    "    \n",
    "    if (landed_on == 0 and bet_choice == 0) or (landed_on == 1 and bet_choice == 1):\n",
    "        print(\"You Win!\")\n",
    "        return True\n",
    "    else:\n",
    "        print(\"You lose!\")\n",
    "        return False\n",
    "\n",
    "pot = 1000\n",
    "initial_bet = 10\n",
    "while pot > 0:\n",
    "    print(f\"\\nStarting round. Pot: {pot}, Current bet: {initial_bet}\")\n",
    "    result = roll()\n",
    "    if result == False:\n",
    "        pot -= initial_bet\n",
    "        initial_bet *= 2\n",
    "    else:\n",
    "        pot += initial_bet \n",
    "        initial_bet = 10\n",
    "    print(pot)\n",
    "\n",
    "    print(f\"End of round. Pot: {pot}\\n\")\n",
    "    if pot <= 0:\n",
    "        print(\"You've run out of money!\")\n",
    "        break\n",
    "    if pot >= 2000: # Example win condition\n",
    "        print(\"You've reached your target! You win!\")\n",
    "        break"
   ]
  },
  {
   "cell_type": "code",
   "execution_count": null,
   "id": "c83e7a20",
   "metadata": {},
   "outputs": [],
   "source": [
    "#Overall a cool strategy to play roulette on, but, given the doubling of the bet, you can reach \n",
    "#a point where your bet eats your pot and you lose. Obviously if you had a very large pot \n",
    "#you could do well and there are plenty of opportunities to double your money.\n",
    "\n",
    "\n",
    "#managed to get the overall structure of the code myself, had help from chatGPT on the green(0) array,\n",
    "#the comparison and a small step in the logic (I was returning double money for a win)"
   ]
  },
  {
   "cell_type": "code",
   "execution_count": null,
   "id": "aec0cd70",
   "metadata": {},
   "outputs": [],
   "source": [
    "#Onto Data Visualisation!"
   ]
  },
  {
   "cell_type": "code",
   "execution_count": 45,
   "id": "0b6a5e3f",
   "metadata": {},
   "outputs": [
    {
     "name": "stdout",
     "output_type": "stream",
     "text": [
      "        Entity Code  Year  Emission\n",
      "0  Afghanistan  AFG  1949   14656.0\n",
      "1  Afghanistan  AFG  1950   84272.0\n",
      "2  Afghanistan  AFG  1951   91600.0\n",
      "3  Afghanistan  AFG  1952   91600.0\n",
      "4  Afghanistan  AFG  1953  106256.0\n"
     ]
    }
   ],
   "source": [
    "import itertools\n",
    "import pandas\n",
    "#Import data as DataFrame\n",
    "df = pandas.read_csv(\"co2_emissions.csv\")\n",
    "\n",
    "print(df.head())"
   ]
  },
  {
   "cell_type": "code",
   "execution_count": 49,
   "id": "d8145700",
   "metadata": {},
   "outputs": [
    {
     "name": "stdout",
     "output_type": "stream",
     "text": [
      "           Entity Code  Year  Emission\n",
      "Year                                  \n",
      "1949  Afghanistan  AFG  1949   14656.0\n",
      "1950  Afghanistan  AFG  1950   84272.0\n",
      "1951  Afghanistan  AFG  1951   91600.0\n",
      "1952  Afghanistan  AFG  1952   91600.0\n",
      "1953  Afghanistan  AFG  1953  106256.0\n"
     ]
    },
    {
     "data": {
      "image/png": "[encoded data removed]",
      "text/plain": [
       "<Figure size 640x480 with 1 Axes>"
      ]
     },
     "metadata": {},
     "output_type": "display_data"
    }
   ],
   "source": [
    "import matplotlib.pyplot as plt\n",
    "import itertools\n",
    "\n",
    "#Set index\n",
    "df = df.set_index(df['Year'])\n",
    "\n",
    "print(df.head())\n",
    "\n",
    "#Aggregated data over time\n",
    "df[\"Emission\"][df['Entity'] == \"World\"].plot(title = \"GLobal Emissions\", ylabel = \"CO2 Emission\", logy = True)\n",
    "\n",
    "#Save figure\n",
    "plt.savefig('DV_world.png')\n",
    "plt.show()"
   ]
  },
  {
   "cell_type": "code",
   "execution_count": 50,
   "id": "95909b3d",
   "metadata": {},
   "outputs": [],
   "source": [
    "#Top 5 countries by emission 2022\n",
    "#Drop missing values\n",
    "#Ignore aggregated indices\n",
    "df_top = df[(df[\"Code\"] != \"OWID_WRL\") & (df[\"Year\"] == 2022)].dropna()"
   ]
  },
  {
   "cell_type": "code",
   "execution_count": 53,
   "id": "577a0e0c",
   "metadata": {},
   "outputs": [
    {
     "name": "stdout",
     "output_type": "stream",
     "text": [
      "           Entity Code  Year    Emission\n",
      "Year                                    \n",
      "1949  Afghanistan  AFG  1949     14656.0\n",
      "1950  Afghanistan  AFG  1950     84272.0\n",
      "1951  Afghanistan  AFG  1951     91600.0\n",
      "1952  Afghanistan  AFG  1952     91600.0\n",
      "1953  Afghanistan  AFG  1953    106256.0\n",
      "...           ...  ...   ...         ...\n",
      "2018     Zimbabwe  ZWE  2018  10714598.0\n",
      "2019     Zimbabwe  ZWE  2019   9775428.0\n",
      "2020     Zimbabwe  ZWE  2020   7849639.0\n",
      "2021     Zimbabwe  ZWE  2021   8396158.0\n",
      "2022     Zimbabwe  ZWE  2022   8855981.0\n",
      "\n",
      "[19362 rows x 4 columns]\n",
      "['China', 'United States', 'India', 'Russia', 'Japan']\n",
      "             Entity Code  Year      Emission\n",
      "Year                                        \n",
      "1907          China  CHN  1907  1.989387e+07\n",
      "1908          China  CHN  1908  2.273585e+07\n",
      "1909          China  CHN  1909  2.425158e+07\n",
      "1910          China  CHN  1910  2.500944e+07\n",
      "1911          China  CHN  1911  2.463051e+07\n",
      "...             ...  ...   ...           ...\n",
      "2018  United States  USA  2018  5.377797e+09\n",
      "2019  United States  USA  2019  5.262145e+09\n",
      "2020  United States  USA  2020  4.714628e+09\n",
      "2021  United States  USA  2021  5.032213e+09\n",
      "2022  United States  USA  2022  5.057304e+09\n",
      "\n",
      "[604 rows x 4 columns]\n"
     ]
    }
   ],
   "source": [
    "#Sort by CO2 emissions in 2022\n",
    "#Select top 5\n",
    "df_top = df_top.sort_values(by = [\"Emission\"], ascending = False).iloc[:5,:]\n",
    "print(df)\n",
    "\n",
    "#Add selected countries to a list\n",
    "countries = df_top[\"Entity\"].tolist()\n",
    "print(countries)\n",
    "#Plot top 5 countries over time\n",
    "#Ignore aggregated indices\n",
    "df = df[(df[\"Code\"] != \"OWID_WRL\") & (df[\"Year\"] > 1900)].dropna()\n",
    "df = df[df[\"Entity\"].isin(countries)]\n",
    "print(df)"
   ]
  },
  {
   "cell_type": "code",
   "execution_count": 54,
   "id": "4130212a",
   "metadata": {},
   "outputs": [
    {
     "data": {
      "image/png": "[encoded data removed]",
      "text/plain": [
       "<Figure size 640x480 with 1 Axes>"
      ]
     },
     "metadata": {},
     "output_type": "display_data"
    }
   ],
   "source": [
    "#Linestyles in list\n",
    "style = itertools.cycle([\"-\", \"--\", \"-.\", \":\", \".\"])\n",
    "\n",
    "grouped = df.groupby(\"Code\")\n",
    "for key, group in grouped:\n",
    "    plt.plot(group.Year, group.Emission, \"k\"+next(style), label = key)\n",
    "plt.legend()\n",
    "plt.savefig('DV_top_5.png')\n",
    "plt.show()"
   ]
  },
  {
   "cell_type": "code",
   "execution_count": null,
   "id": "82467ec5",
   "metadata": {},
   "outputs": [],
   "source": [
    "import seaborn\n",
    "import pandas \n",
    "import matplotlib.pyplot as plt"
   ]
  },
  {
   "cell_type": "code",
   "execution_count": null,
   "id": "fc1b6896",
   "metadata": {},
   "outputs": [
    {
     "name": "stdout",
     "output_type": "stream",
     "text": [
      "   Year    Nominal        Real\n",
      "0  1961  20.253785  103.835823\n",
      "1  1962  19.999552  100.654241\n",
      "2  1963  20.904235  107.170509\n",
      "3  1964  21.883861  110.644337\n",
      "4  1965  22.077289  110.558795\n"
     ]
    }
   ],
   "source": [
    "#Import data as DataFrame\n",
    "df = pandas.read_csv(\"food_price_index.csv\")\n",
    "print(df.head())"
   ]
  },
  {
   "cell_type": "code",
   "execution_count": null,
   "id": "bbaa1c7d",
   "metadata": {},
   "outputs": [
    {
     "data": {
      "image/png": "[encoded data removed]",
      "text/plain": [
       "<Figure size 640x480 with 1 Axes>"
      ]
     },
     "metadata": {},
     "output_type": "display_data"
    }
   ],
   "source": [
    "#Set index\n",
    "df = df.set_index(df[\"Year\"])\n",
    "\n",
    "#Multiple lines\n",
    "seaborn.lineplot(data = df[[\"Nominal\", \"Real\"]], palette = ['red', 'blue'], markers = True, dashes = True)\n",
    "\n",
    "plt.savefig('DV_food.png')\n",
    "plt.show()"
   ]
  },
  {
   "cell_type": "code",
   "execution_count": null,
   "id": "a3c927ee",
   "metadata": {},
   "outputs": [
    {
     "name": "stdout",
     "output_type": "stream",
     "text": [
      "        Country                                        Series Name  Year  CPIA\n",
      "46  Afghanistan  CPIA policy and institutions for environmental...  2006   2.0\n",
      "47  Afghanistan  CPIA policy and institutions for environmental...  2007   2.0\n",
      "48  Afghanistan  CPIA policy and institutions for environmental...  2008   2.5\n",
      "49  Afghanistan  CPIA policy and institutions for environmental...  2009   2.5\n",
      "50  Afghanistan  CPIA policy and institutions for environmental...  2010   2.5\n",
      "        Country                                        Series Name  Year  CPIA\n",
      "13882  Zimbabwe  CPIA policy and institutions for environmental...  2018   4.0\n",
      "13883  Zimbabwe  CPIA policy and institutions for environmental...  2019   4.0\n",
      "13884  Zimbabwe  CPIA policy and institutions for environmental...  2020   4.0\n",
      "13885  Zimbabwe  CPIA policy and institutions for environmental...  2021   4.0\n",
      "13886  Zimbabwe  CPIA policy and institutions for environmental...  2022   4.0\n"
     ]
    }
   ],
   "source": [
    "#Import data as DataFrame\n",
    "df = pandas.read_csv(\"policy_ranking.csv\")\n",
    "\n",
    "#Remove missing values\n",
    "df = df.dropna()\n",
    "\n",
    "#Change column name\n",
    "df = df.rename(columns = {\"Country Name\": \"Country\", \"Time\": \"Year\", \"Value\": \"CPIA\"})\n",
    "\n",
    "#Change float to integer for Year\n",
    "\n",
    "df[\"Year\"] = df[\"Year\"].astype(int)\n",
    "\n",
    "#Check the data structure\n",
    "print(df.head())\n",
    "print(df.tail())"
   ]
  },
  {
   "cell_type": "code",
   "execution_count": null,
   "id": "b962c002",
   "metadata": {},
   "outputs": [],
   "source": [
    "#Define a list of years\n",
    "years_selected = [2005, 2010, 2015, 2022]\n",
    "\n",
    "#Select years\n",
    "df = df[df[\"Year\"].isin(years_selected)]"
   ]
  },
  {
   "cell_type": "code",
   "execution_count": null,
   "id": "777f48d3",
   "metadata": {},
   "outputs": [
    {
     "data": {
      "image/png": "[encoded data removed]",
      "text/plain": [
       "<Figure size 900x600 with 2 Axes>"
      ]
     },
     "metadata": {},
     "output_type": "display_data"
    }
   ],
   "source": [
    "#Subplots\n",
    "#Combine barplot and boxplot\n",
    "seaborn.set_theme(style = \"whitegrid\")\n",
    "seaborn.color_palette(\"Spectral\", as_cmap = True)\n",
    "\n",
    "#Define figure with two subplots and axes\n",
    "fig, axes = plt.subplots(1, 2, sharex = True, figsize = (9, 6))\n",
    "fig.suptitle(\"Ratings over time\")\n",
    "axes[0].set_title(\"Barplot\")\n",
    "axes[1].set_title(\"Boxplot\")\n",
    "\n",
    "#Barplot\n",
    "seaborn.barplot(data = df, x = \"Year\", y = \"CPIA\", hue = \"Year\", legend = False, ax = axes[0])\n",
    "\n",
    "#Boxplot\n",
    "seaborn.boxplot(data = df, x = \"Year\", y = \"CPIA\", hue = \"Year\", legend = False, ax = axes[1])\n",
    "\n",
    "plt.savefig('DV_rating.png')\n",
    "plt.show()\n"
   ]
  },
  {
   "cell_type": "code",
   "execution_count": null,
   "id": "22628f30",
   "metadata": {},
   "outputs": [
    {
     "data": {
      "application/vnd.plotly.v1+json": {
       "config": {
        "plotlyServerURL": "https://plot.ly"
       },
       "data": [
        {
         "hovertemplate": "Year=%{x}<br>CPIA=%{y}<extra></extra>",
         "legendgroup": "",
         "marker": {
          "color": "#636efa",
          "symbol": "circle"
         },
         "mode": "markers",
         "name": "",
         "orientation": "v",
         "showlegend": false,
         "type": "scatter",
         "x": {
          "bdata": "2gffB+YH1QfVB9oH1QfaB9UH2gfVB9oH3wfmB9UH2gffB+YH1QfaB98H5gfVB9oH3wfVB9oH1QfaB98H5gfVB9oH3wfmB9UH2gffB+YH1QfaB98H5gfVB9oH3wfmB9UH2gffB+YH1QfaB98H5gfVB9oH3wfmB9UH2gffB+YH1QfaB98H5gfVB9oH3wfmB9UH2gffB+YH1QfaB98H5gfVB9oH3wfmB9UH2gffB+YH5gfVB9oH3wfmB9UH2gfVB9oH3wfmB9UH2gffB+YH1QfaB98H5gfVB9oH3wfmB9UH2gffB+YH1QfaB98H5gfVB9oH3wfmB9UH2gfVB9UH2gffB+YH1QfaB98H5gfaB98H5gfVB9oH3wfmB9UH2gffB+YH1QfaB98H5gfaB98H5gfVB9oH3wfmB9UH2gffB+YH1QfaB98H5gfVB9oH3wfmB98H5gfVB9oH3wfmB98H5gfVB9oH3wfVB9oH3wfVB9oH3wfmB98H5gfVB9oH3wfmB9UH2gffB+YH1QfaB98H5gfVB9oH3wfmB9UH2gffB+YH1QfaB98H5gfVB9oH3wfmB9UH2gffB+YH1QfaB98H5gfVB9oH3wfmB9UH1QfaB98H5gfVB9oH3wfmB+YH3wfmB9UH2gffB+YH1QfaB98H5gfVB9oH3wfmB9UH2gffB+YH1QfaB98H5gfVB9oH3wfmB9oH3wfmB9UH2gffB+YH1QfaB98H5gffB+YH1QfaB98H5gfVB9oH3wfmB9UH2gffB+YH1QfaB98H1QfaB98H5gfVB9oH3wfmB9UH2gffB+YH",
          "dtype": "i2"
         },
         "xaxis": "x",
         "y": {
          "bdata": "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",
          "dtype": "f8"
         },
         "yaxis": "y"
        }
       ],
       "layout": {
        "legend": {
         "tracegroupgap": 0
        },
        "margin": {
         "t": 60
        },
        "template": {
         "data": {
          "bar": [
           {
            "error_x": {
             "color": "#2a3f5f"
            },
            "error_y": {
             "color": "#2a3f5f"
            },
            "marker": {
             "line": {
              "color": "#E5ECF6",
              "width": 0.5
             },
             "pattern": {
              "fillmode": "overlay",
              "size": 10,
              "solidity": 0.2
             }
            },
            "type": "bar"
           }
          ],
          "barpolar": [
           {
            "marker": {
             "line": {
              "color": "#E5ECF6",
              "width": 0.5
             },
             "pattern": {
              "fillmode": "overlay",
              "size": 10,
              "solidity": 0.2
             }
            },
            "type": "barpolar"
           }
          ],
          "carpet": [
           {
            "aaxis": {
             "endlinecolor": "#2a3f5f",
             "gridcolor": "white",
             "linecolor": "white",
             "minorgridcolor": "white",
             "startlinecolor": "#2a3f5f"
            },
            "baxis": {
             "endlinecolor": "#2a3f5f",
             "gridcolor": "white",
             "linecolor": "white",
             "minorgridcolor": "white",
             "startlinecolor": "#2a3f5f"
            },
            "type": "carpet"
           }
          ],
          "choropleth": [
           {
            "colorbar": {
             "outlinewidth": 0,
             "ticks": ""
            },
            "type": "choropleth"
           }
          ],
          "contour": [
           {
            "colorbar": {
             "outlinewidth": 0,
             "ticks": ""
            },
            "colorscale": [
             [
              0,
              "#0d0887"
             ],
             [
              0.1111111111111111,
              "#46039f"
             ],
             [
              0.2222222222222222,
              "#7201a8"
             ],
             [
              0.3333333333333333,
              "#9c179e"
             ],
             [
              0.4444444444444444,
              "#bd3786"
             ],
             [
              0.5555555555555556,
              "#d8576b"
             ],
             [
              0.6666666666666666,
              "#ed7953"
             ],
             [
              0.7777777777777778,
              "#fb9f3a"
             ],
             [
              0.8888888888888888,
              "#fdca26"
             ],
             [
              1,
              "#f0f921"
             ]
            ],
            "type": "contour"
           }
          ],
          "contourcarpet": [
           {
            "colorbar": {
             "outlinewidth": 0,
             "ticks": ""
            },
            "type": "contourcarpet"
           }
          ],
          "heatmap": [
           {
            "colorbar": {
             "outlinewidth": 0,
             "ticks": ""
            },
            "colorscale": [
             [
              0,
              "#0d0887"
             ],
             [
              0.1111111111111111,
              "#46039f"
             ],
             [
              0.2222222222222222,
              "#7201a8"
             ],
             [
              0.3333333333333333,
              "#9c179e"
             ],
             [
              0.4444444444444444,
              "#bd3786"
             ],
             [
              0.5555555555555556,
              "#d8576b"
             ],
             [
              0.6666666666666666,
              "#ed7953"
             ],
             [
              0.7777777777777778,
              "#fb9f3a"
             ],
             [
              0.8888888888888888,
              "#fdca26"
             ],
             [
              1,
              "#f0f921"
             ]
            ],
            "type": "heatmap"
           }
          ],
          "histogram": [
           {
            "marker": {
             "pattern": {
              "fillmode": "overlay",
              "size": 10,
              "solidity": 0.2
             }
            },
            "type": "histogram"
           }
          ],
          "histogram2d": [
           {
            "colorbar": {
             "outlinewidth": 0,
             "ticks": ""
            },
            "colorscale": [
             [
              0,
              "#0d0887"
             ],
             [
              0.1111111111111111,
              "#46039f"
             ],
             [
              0.2222222222222222,
              "#7201a8"
             ],
             [
              0.3333333333333333,
              "#9c179e"
             ],
             [
              0.4444444444444444,
              "#bd3786"
             ],
             [
              0.5555555555555556,
              "#d8576b"
             ],
             [
              0.6666666666666666,
              "#ed7953"
             ],
             [
              0.7777777777777778,
              "#fb9f3a"
             ],
             [
              0.8888888888888888,
              "#fdca26"
             ],
             [
              1,
              "#f0f921"
             ]
            ],
            "type": "histogram2d"
           }
          ],
          "histogram2dcontour": [
           {
            "colorbar": {
             "outlinewidth": 0,
             "ticks": ""
            },
            "colorscale": [
             [
              0,
              "#0d0887"
             ],
             [
              0.1111111111111111,
              "#46039f"
             ],
             [
              0.2222222222222222,
              "#7201a8"
             ],
             [
              0.3333333333333333,
              "#9c179e"
             ],
             [
              0.4444444444444444,
              "#bd3786"
             ],
             [
              0.5555555555555556,
              "#d8576b"
             ],
             [
              0.6666666666666666,
              "#ed7953"
             ],
             [
              0.7777777777777778,
              "#fb9f3a"
             ],
             [
              0.8888888888888888,
              "#fdca26"
             ],
             [
              1,
              "#f0f921"
             ]
            ],
            "type": "histogram2dcontour"
           }
          ],
          "mesh3d": [
           {
            "colorbar": {
             "outlinewidth": 0,
             "ticks": ""
            },
            "type": "mesh3d"
           }
          ],
          "parcoords": [
           {
            "line": {
             "colorbar": {
              "outlinewidth": 0,
              "ticks": ""
             }
            },
            "type": "parcoords"
           }
          ],
          "pie": [
           {
            "automargin": true,
            "type": "pie"
           }
          ],
          "scatter": [
           {
            "fillpattern": {
             "fillmode": "overlay",
             "size": 10,
             "solidity": 0.2
            },
            "type": "scatter"
           }
          ],
          "scatter3d": [
           {
            "line": {
             "colorbar": {
              "outlinewidth": 0,
              "ticks": ""
             }
            },
            "marker": {
             "colorbar": {
              "outlinewidth": 0,
              "ticks": ""
             }
            },
            "type": "scatter3d"
           }
          ],
          "scattercarpet": [
           {
            "marker": {
             "colorbar": {
              "outlinewidth": 0,
              "ticks": ""
             }
            },
            "type": "scattercarpet"
           }
          ],
          "scattergeo": [
           {
            "marker": {
             "colorbar": {
              "outlinewidth": 0,
              "ticks": ""
             }
            },
            "type": "scattergeo"
           }
          ],
          "scattergl": [
           {
            "marker": {
             "colorbar": {
              "outlinewidth": 0,
              "ticks": ""
             }
            },
            "type": "scattergl"
           }
          ],
          "scattermap": [
           {
            "marker": {
             "colorbar": {
              "outlinewidth": 0,
              "ticks": ""
             }
            },
            "type": "scattermap"
           }
          ],
          "scattermapbox": [
           {
            "marker": {
             "colorbar": {
              "outlinewidth": 0,
              "ticks": ""
             }
            },
            "type": "scattermapbox"
           }
          ],
          "scatterpolar": [
           {
            "marker": {
             "colorbar": {
              "outlinewidth": 0,
              "ticks": ""
             }
            },
            "type": "scatterpolar"
           }
          ],
          "scatterpolargl": [
           {
            "marker": {
             "colorbar": {
              "outlinewidth": 0,
              "ticks": ""
             }
            },
            "type": "scatterpolargl"
           }
          ],
          "scatterternary": [
           {
            "marker": {
             "colorbar": {
              "outlinewidth": 0,
              "ticks": ""
             }
            },
            "type": "scatterternary"
           }
          ],
          "surface": [
           {
            "colorbar": {
             "outlinewidth": 0,
             "ticks": ""
            },
            "colorscale": [
             [
              0,
              "#0d0887"
             ],
             [
              0.1111111111111111,
              "#46039f"
             ],
             [
              0.2222222222222222,
              "#7201a8"
             ],
             [
              0.3333333333333333,
              "#9c179e"
             ],
             [
              0.4444444444444444,
              "#bd3786"
             ],
             [
              0.5555555555555556,
              "#d8576b"
             ],
             [
              0.6666666666666666,
              "#ed7953"
             ],
             [
              0.7777777777777778,
              "#fb9f3a"
             ],
             [
              0.8888888888888888,
              "#fdca26"
             ],
             [
              1,
              "#f0f921"
             ]
            ],
            "type": "surface"
           }
          ],
          "table": [
           {
            "cells": {
             "fill": {
              "color": "#EBF0F8"
             },
             "line": {
              "color": "white"
             }
            },
            "header": {
             "fill": {
              "color": "#C8D4E3"
             },
             "line": {
              "color": "white"
             }
            },
            "type": "table"
           }
          ]
         },
         "layout": {
          "annotationdefaults": {
           "arrowcolor": "#2a3f5f",
           "arrowhead": 0,
           "arrowwidth": 1
          },
          "autotypenumbers": "strict",
          "coloraxis": {
           "colorbar": {
            "outlinewidth": 0,
            "ticks": ""
           }
          },
          "colorscale": {
           "diverging": [
            [
             0,
             "#8e0152"
            ],
            [
             0.1,
             "#c51b7d"
            ],
            [
             0.2,
             "#de77ae"
            ],
            [
             0.3,
             "#f1b6da"
            ],
            [
             0.4,
             "#fde0ef"
            ],
            [
             0.5,
             "#f7f7f7"
            ],
            [
             0.6,
             "#e6f5d0"
            ],
            [
             0.7,
             "#b8e186"
            ],
            [
             0.8,
             "#7fbc41"
            ],
            [
             0.9,
             "#4d9221"
            ],
            [
             1,
             "#276419"
            ]
           ],
           "sequential": [
            [
             0,
             "#0d0887"
            ],
            [
             0.1111111111111111,
             "#46039f"
            ],
            [
             0.2222222222222222,
             "#7201a8"
            ],
            [
             0.3333333333333333,
             "#9c179e"
            ],
            [
             0.4444444444444444,
             "#bd3786"
            ],
            [
             0.5555555555555556,
             "#d8576b"
            ],
            [
             0.6666666666666666,
             "#ed7953"
            ],
            [
             0.7777777777777778,
             "#fb9f3a"
            ],
            [
             0.8888888888888888,
             "#fdca26"
            ],
            [
             1,
             "#f0f921"
            ]
           ],
           "sequentialminus": [
            [
             0,
             "#0d0887"
            ],
            [
             0.1111111111111111,
             "#46039f"
            ],
            [
             0.2222222222222222,
             "#7201a8"
            ],
            [
             0.3333333333333333,
             "#9c179e"
            ],
            [
             0.4444444444444444,
             "#bd3786"
            ],
            [
             0.5555555555555556,
             "#d8576b"
            ],
            [
             0.6666666666666666,
             "#ed7953"
            ],
            [
             0.7777777777777778,
             "#fb9f3a"
            ],
            [
             0.8888888888888888,
             "#fdca26"
            ],
            [
             1,
             "#f0f921"
            ]
           ]
          },
          "colorway": [
           "#636efa",
           "#EF553B",
           "#00cc96",
           "#ab63fa",
           "#FFA15A",
           "#19d3f3",
           "#FF6692",
           "#B6E880",
           "#FF97FF",
           "#FECB52"
          ],
          "font": {
           "color": "#2a3f5f"
          },
          "geo": {
           "bgcolor": "white",
           "lakecolor": "white",
           "landcolor": "#E5ECF6",
           "showlakes": true,
           "showland": true,
           "subunitcolor": "white"
          },
          "hoverlabel": {
           "align": "left"
          },
          "hovermode": "closest",
          "mapbox": {
           "style": "light"
          },
          "paper_bgcolor": "white",
          "plot_bgcolor": "#E5ECF6",
          "polar": {
           "angularaxis": {
            "gridcolor": "white",
            "linecolor": "white",
            "ticks": ""
           },
           "bgcolor": "#E5ECF6",
           "radialaxis": {
            "gridcolor": "white",
            "linecolor": "white",
            "ticks": ""
           }
          },
          "scene": {
           "xaxis": {
            "backgroundcolor": "#E5ECF6",
            "gridcolor": "white",
            "gridwidth": 2,
            "linecolor": "white",
            "showbackground": true,
            "ticks": "",
            "zerolinecolor": "white"
           },
           "yaxis": {
            "backgroundcolor": "#E5ECF6",
            "gridcolor": "white",
            "gridwidth": 2,
            "linecolor": "white",
            "showbackground": true,
            "ticks": "",
            "zerolinecolor": "white"
           },
           "zaxis": {
            "backgroundcolor": "#E5ECF6",
            "gridcolor": "white",
            "gridwidth": 2,
            "linecolor": "white",
            "showbackground": true,
            "ticks": "",
            "zerolinecolor": "white"
           }
          },
          "shapedefaults": {
           "line": {
            "color": "#2a3f5f"
           }
          },
          "ternary": {
           "aaxis": {
            "gridcolor": "white",
            "linecolor": "white",
            "ticks": ""
           },
           "baxis": {
            "gridcolor": "white",
            "linecolor": "white",
            "ticks": ""
           },
           "bgcolor": "#E5ECF6",
           "caxis": {
            "gridcolor": "white",
            "linecolor": "white",
            "ticks": ""
           }
          },
          "title": {
           "x": 0.05
          },
          "xaxis": {
           "automargin": true,
           "gridcolor": "white",
           "linecolor": "white",
           "ticks": "",
           "title": {
            "standoff": 15
           },
           "zerolinecolor": "white",
           "zerolinewidth": 2
          },
          "yaxis": {
           "automargin": true,
           "gridcolor": "white",
           "linecolor": "white",
           "ticks": "",
           "title": {
            "standoff": 15
           },
           "zerolinecolor": "white",
           "zerolinewidth": 2
          }
         }
        },
        "xaxis": {
         "anchor": "y",
         "domain": [
          0,
          1
         ],
         "title": {
          "text": "Year"
         }
        },
        "yaxis": {
         "anchor": "x",
         "domain": [
          0,
          1
         ],
         "title": {
          "text": "CPIA"
         }
        }
       }
      }
     },
     "metadata": {},
     "output_type": "display_data"
    }
   ],
   "source": [
    "import plotly.express as px\n",
    "fig = px.scatter(df, x = \"Year\", y = \"CPIA\")\n",
    "fig.show()"
   ]
  },
  {
   "cell_type": "code",
   "execution_count": null,
   "id": "e7c5c7a9",
   "metadata": {},
   "outputs": [
    {
     "name": "stdout",
     "output_type": "stream",
     "text": [
      "   year  o_prov  o_prob  o_pos  g_prov  g_prob  g_pos\n",
      "0  1995     605     765    520     700     780    435\n",
      "1  1996     665     690    670     760     660    540\n",
      "2  1997     690     700    625     765     620    600\n",
      "3  1998     685     575    540     755     585    455\n",
      "4  1999     665     455    545     760     500    490\n",
      "    year  o_prov  o_prob  o_pos  g_prov  g_prob  g_pos\n",
      "22  2017     333     174     93     181      98     66\n",
      "23  2018     360     147    120     181      98     50\n",
      "24  2019     339     142    108     174      86     51\n",
      "25  2020     262     149     79     133      88     59\n",
      "26  2021     237     120     69     146      67     53\n",
      "          o_prov    o_prob     o_pos    g_prov    g_prob     g_pos\n",
      "o_prov  1.000000  0.752799  0.913570  0.983106  0.888654  0.935347\n",
      "o_prob  0.752799  1.000000  0.813316  0.730819  0.935054  0.861662\n",
      "o_pos   0.913570  0.813316  1.000000  0.885883  0.879757  0.958884\n",
      "g_prov  0.983106  0.730819  0.885883  1.000000  0.896473  0.925157\n",
      "g_prob  0.888654  0.935054  0.879757  0.896473  1.000000  0.931238\n",
      "g_pos   0.935347  0.861662  0.958884  0.925157  0.931238  1.000000\n"
     ]
    }
   ],
   "source": [
    "#Import data as DataFrame\n",
    "df = pandas.read_csv(\"uk_reserves.csv\")\n",
    "\n",
    "#Check the data structure\n",
    "print(df.head())\n",
    "print(df.tail())\n",
    "\n",
    "#Drop year\n",
    "df = df.drop(columns = ['year'])\n",
    "\n",
    "#Correlation matrix\n",
    "corr_matrix = df.corr()\n",
    "print(corr_matrix)"
   ]
  },
  {
   "cell_type": "code",
   "execution_count": null,
   "id": "de7c1a97",
   "metadata": {},
   "outputs": [
    {
     "data": {
      "image/png": "[encoded data removed]",
      "text/plain": [
       "<Figure size 640x480 with 2 Axes>"
      ]
     },
     "metadata": {},
     "output_type": "display_data"
    }
   ],
   "source": [
    "#Heat map\n",
    "seaborn.heatmap(corr_matrix)\n",
    "plt.savefig('DV_heat.png')\n",
    "plt.show()"
   ]
  },
  {
   "cell_type": "code",
   "execution_count": null,
   "id": "ca76bc0c",
   "metadata": {},
   "outputs": [
    {
     "name": "stdout",
     "output_type": "stream",
     "text": [
      "       ARG   AUS   AUT   BRA   GBR\n",
      "Year                              \n",
      "1875  2606  6596  3145  1122  5950\n",
      "1876  2611  6387  3188  1081  5938\n",
      "1877  2820  6433  3268  1050  5923\n",
      "1878  2619  6817  3347  1101  5879\n",
      "1879  2664  6703  3296  1109  5786\n",
      "        ARG    AUS    AUT    BRA    GBR\n",
      "Year                                   \n",
      "2018  18460  49614  43032  14197  38704\n",
      "2019  17912  49814  43488  14257  39113\n",
      "2020  15975  48268  40503  13685  34651\n",
      "2021  17470  50704  42184  14292  37134\n",
      "2022  18292  52049  43792  14640  38406\n"
     ]
    }
   ],
   "source": [
    "import pandas\n",
    "df = pandas.read_csv('gdp.csv')\n",
    "\n",
    "#Drop year column \n",
    "\n",
    "#Set index\n",
    "df = df.set_index(df[\"Year\"])\n",
    "\n",
    "#Drop year column as is index\n",
    "df = df.drop(columns = [\"Year\"])\n",
    "\n",
    "#Convert floats to integers\n",
    "df[\"ARG\"] = df[\"ARG\"].astype(int)\n",
    "df[\"AUS\"] = df[\"AUS\"].astype(int)\n",
    "df[\"AUT\"] = df[\"AUT\"].astype(int)\n",
    "df[\"BRA\"] = df[\"BRA\"].astype(int)\n",
    "df[\"GBR\"] = df[\"GBR\"].astype(int)\n",
    "\n",
    "#Check dataset\n",
    "print(df.head())\n",
    "print(df.tail())\n"
   ]
  },
  {
   "cell_type": "code",
   "execution_count": null,
   "id": "fd3bdd22",
   "metadata": {},
   "outputs": [
    {
     "data": {
      "image/png": "[encoded data removed]",
      "text/plain": [
       "<Figure size 640x480 with 1 Axes>"
      ]
     },
     "metadata": {},
     "output_type": "display_data"
    }
   ],
   "source": [
    "import seaborn\n",
    "import matplotlib.pyplot as plt\n",
    "seaborn.lineplot(data = df[[\"ARG\", \"AUS\", \"AUT\", \"BRA\", \"GBR\"]], palette = ['red', 'blue', 'pink', 'black', 'orange'])\n",
    "\n",
    "plt.savefig('DV_Exec.png')\n",
    "plt.show()"
   ]
  },
  {
   "cell_type": "code",
   "execution_count": null,
   "id": "22e5a257",
   "metadata": {},
   "outputs": [],
   "source": [
    "import numpy as np\n",
    "df[\"ARG\"] = np.log(df[\"ARG\"]).std()\n",
    "df[\"AUS\"] = np.log(df[\"AUS\"]).std()\n",
    "df[\"AUT\"] = np.log(df[\"AUT\"]).std()\n",
    "df[\"BRA\"] = np.log(df[\"BRA\"]).std()\n",
    "df[\"GBR\"] = np.log(df[\"GBR\"]).std()"
   ]
  },
  {
   "cell_type": "code",
   "execution_count": null,
   "id": "ed34358b",
   "metadata": {},
   "outputs": [
    {
     "data": {
      "image/png": "[encoded data removed]",
      "text/plain": [
       "<Figure size 640x480 with 1 Axes>"
      ]
     },
     "metadata": {},
     "output_type": "display_data"
    }
   ],
   "source": [
    "seaborn.lineplot(data = df[[\"ARG\", \"AUS\", \"AUT\", \"BRA\", \"GBR\"]], palette = ['red', 'blue', 'pink', 'black', 'orange'])\n",
    "\n",
    "plt.savefig('DV_DVG.png')\n",
    "plt.show()"
   ]
  },
  {
   "cell_type": "code",
   "execution_count": null,
   "id": "ced49ba0",
   "metadata": {},
   "outputs": [],
   "source": [
    "#Neither converge nor diverge, they are constant (roughly).\n",
    "#Nice."
   ]
  }
 ],
 "metadata": {
  "kernelspec": {
   "display_name": "plot",
   "language": "python",
   "name": "python3"
  },
  "language_info": {
   "codemirror_mode": {
    "name": "ipython",
    "version": 3
   },
   "file_extension": ".py",
   "mimetype": "text/x-python",
   "name": "python",
   "nbconvert_exporter": "python",
   "pygments_lexer": "ipython3",
   "version": "3.11.2"
  }
 },
 "nbformat": 4,
 "nbformat_minor": 5
}
